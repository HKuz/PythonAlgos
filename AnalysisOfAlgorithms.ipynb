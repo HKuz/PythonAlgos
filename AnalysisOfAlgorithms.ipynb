{
 "cells": [
  {
   "cell_type": "markdown",
   "metadata": {},
   "source": [
    "# Analysis of Algorithms\n",
    "\n",
    "Will focus on **running time** - how many times does a discrete computation happen to get a result?\n",
    "\n",
    "Reasons to analyze algorithms:\n",
    "\n",
    "- Predict performance\n",
    "- Compare algorithms\n",
    "- Provide guarantees\n",
    "- Understand theoretical basis\n",
    "\n",
    "The primary practical reason is to avoid performance bugs.\n",
    "\n",
    "You want to know if your program will be able to solve a large practical input, you use the **scientific method** to understand its performance:\n",
    "\n",
    "- **Observe** some feature of the natural world\n",
    "- **Hypothesize** a model that is consistent with the observations\n",
    "- **Predict** events using the hypothesis\n",
    "- **Verify** the predictions by making further observations\n",
    "- **Validate** by repeating until the hypothesis and observations agree\n",
    "\n",
    "Experiments must be **reproducible** and hypotheses must be **falsifiable**.\n",
    "\n",
    "## Observations\n",
    "\n",
    "The first step is to make some observations about the running time of the programs.\n",
    "\n",
    "1. Run empirical analysis: time how long a program takes to run\n",
    "2. Analyze the data: plot the running time $T(N)$ versus input size $N$\n",
    "    - Usually plot $lg(T(N))$ vs $lgN$, and check the slope\n",
    "    - Regression analysis fits a straight line through the data, where **power law** states: $aN^b$, where $b$ is the slope. Example:\n",
    "\n",
    "$$\n",
    "y = mx + b \\\\\n",
    "lg(T(N)) = b \\; lg(N) + c \\\\\n",
    "T(N) = a \\; N^b \\text{ where } a=2^c\n",
    "$$\n",
    "\n",
    "Most algorithms have some form of the power law involved when you're analyzing them.\n",
    "\n",
    "The system you run the experiments on will make a difference in some areas. System independent effects are the **algorithm** and the **input data**, which determine the exponent $b$ in teh power law (slope of the line in a log-log scale graph). System dependent effects include **hardware** (CPU, memory, cache), **software** (compiler, interpreter, garbage collector), and the **system** (operating system, network, other applications). These determine the constant $a$ in the power law.\n",
    "\n",
    "## Mathematical Models\n",
    "\n",
    "Observing the behavior of an algorithm helps to predict performance, but to understand what the algorithm is doing you need mathematical models.\n",
    "\n",
    "The **total running time** is the sum of cost X frequency for all operations. You need to analyze the program to determine the set of operations. The cost depends on the machine, the compiler, etc. The frequency depends on the algorithm and input data.\n",
    "\n",
    "Earlier days, computers would list the time it took to perform certain operations (integer addition, float addition, etc.). With modern machines, you'd run an analysis if you really wanted to know.\n",
    "\n",
    "One simplification is to look at the costs and use some basic operation as a proxy for running time. For example, array accesses in a nested loop adding all integers in an array to see if any pair sums to zero.\n",
    "\n",
    "Another simplification is use **tilda notation** which ignores the lower-order terms in the cost formulas you derive. For example, $\\frac{1}{6} N^3 + 20N + 16$ would simplify to ~$\\frac{1}{6}N^3$.\n",
    "\n"
   ]
  },
  {
   "cell_type": "code",
   "execution_count": null,
   "metadata": {
    "collapsed": true
   },
   "outputs": [],
   "source": []
  }
 ],
 "metadata": {
  "kernelspec": {
   "display_name": "Python 3",
   "language": "python",
   "name": "python3"
  },
  "language_info": {
   "codemirror_mode": {
    "name": "ipython",
    "version": 3
   },
   "file_extension": ".py",
   "mimetype": "text/x-python",
   "name": "python",
   "nbconvert_exporter": "python",
   "pygments_lexer": "ipython3",
   "version": "3.6.1"
  }
 },
 "nbformat": 4,
 "nbformat_minor": 2
}
