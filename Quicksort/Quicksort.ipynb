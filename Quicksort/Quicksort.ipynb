{
 "cells": [
  {
   "cell_type": "markdown",
   "metadata": {},
   "source": [
    "# Quicksort\n",
    "\n",
    "**Quicksort** is a recursive method:\n",
    "\n",
    "- Shuffles the array\n",
    "- Creates a partition so there is a `j` where entry `a[j]` is in place, there's no larger entry to the left of `j`, and no smaller entry to the right of `j`\n",
    "- Recursively sort the left part and right part\n",
    "\n",
    "Phase I (repeat until `i` and `j` cross:\n",
    "- Choose the first element as `a[lo]`\n",
    "- Scan `i` from left to right as long as `a[i] < a[lo]`\n",
    "- Scan `j` from right to left so long as `a[j] > a[lo]`\n",
    "- Exchange `a[i]` with `a[j]`\n",
    "\n",
    "Phase II is to take each half around the partition and run phase I on it (using the first item as the new partition).\n",
    "\n",
    "Typically partition in place - you can use an extra array to make it easier (and stable), but it's usually no worth the cost. One of the advantages of it over mergesort is that it's in place.\n",
    "\n",
    "Two tricky parts are keeping the indices `i` and `j` from crossing (terminating the loop) and staying in bounds (`j == lo` test is redundant but `i == hi` isn't). The shuffling part is necessary for performance guarantees. Also, when there are duplicate keys, it's better to stop on keys equal to the partitioning item's key.\n",
    "\n",
    "Quicksort is even faster than mergesort.\n",
    "\n",
    "In the best case, quicksort will divide the array in half with each partition, and is then similar to mergesort with $N \\lg N$. The worst case is if the array is already sorted, so each partition just peals off the first item, which is ~$\\frac{1}{2} N^2$. But with random shuffling, that's highly unlikely to happen.\n",
    "\n",
    "The average case (by number of compares) is more interesting.\n",
    "\n",
    "The proposition is the average number of compares $C_N$ to quicksort an array of $N$ distinct keys is ~$2N \\ln N$ (and the number of exchanges is ~$\\frac{1}{3} N \\ln N$).\n",
    "\n",
    "**The proof**: $C_N$ satisfies the recurrence $C_0 = C_1 = 0$ and for $N \\geq 2$. The following shows $C_N$ equal to the partitioning plus each left + right over the partitioning probability:\n",
    "\n",
    "$$\n",
    "C_N = (N + 1) + \\bigg{(} \\frac{C_0 + C_{N-1}}{N} \\bigg{)} + \\bigg{(} \\frac{C_1 + C_{N-2}}{N} \\bigg{)} + \\cdots + \\bigg{(} \\frac{C_{N-1} + C_0}{N} \\bigg{)} \\\\\n",
    "\\text{Multiply both sides by } N \\\\\n",
    "NC_N = N(N + 1) + 2(C_0 + C_1 + \\ldots + C_{N-1}) \\\\\n",
    "\\text{Subtract this from the same equation for } N-1: \\\\\n",
    "NC_N - (N - 1)C_{N-1} = 2N + 2C_{N-1} \\\\\n",
    "\\text{Repeatedly apply the above equation, get approximate sum by integral:} \\\\\n",
    "C_N \\text{~} 2(N + 1) \\ln N \\approx 1.39 N \\lg N\n",
    "$$\n",
    "\n",
    "**Worst case**, the number of compares is quadratic ($N^2$), but that's extremely unlikely with a random shuffle (it's a probabilistic guarantee against the worst case, and important for performance). Many text book implementations go quadratic if the array is already sorted/reverse sorted, or there are many duplicates. There are about 39% more compares than mergesort, but it's faster in practice because of less data movement.\n",
    "\n",
    "**Summary of properties**:\n",
    "\n",
    "- **In place**: partitioning is done with constant extra space\n",
    "- **Depth of recursion**: can guarantee logarithmic depth by recurring on smaller subarrays before larger subarrays, so get logarithmic extra space with high probability\n",
    "- **Not stable**: long-range swaps can pull items out of relative order\n",
    "\n",
    "Practical improvements:\n",
    "\n",
    "- Quicksort has too much overhead for small subarrays, can use insertion sort for arrays with ~10 items, or delay using it until one pass at the end\n",
    "- Estimate the partitioning item instead of using the first item. The best choice for the pivot item is the median, can find a decent estimate by taking 3 random items and taking the median of that (improves performance by ~10%)"
   ]
  },
  {
   "cell_type": "code",
   "execution_count": 37,
   "metadata": {},
   "outputs": [
    {
     "name": "stdout",
     "output_type": "stream",
     "text": [
      "ARRAY: ['Q', 'U', 'I', 'C', 'K', 'S', 'O', 'R', 'T', 'E', 'X', 'A', 'M', 'P', 'L', 'E']\n",
      "Quicksort results: ['A', 'C', 'E', 'E', 'I', 'K', 'L', 'M', 'O', 'P', 'Q', 'R', 'S', 'T', 'U', 'X']\n",
      "[1, 2, 3, 4, 5, 6, 7, 8, 9, 10]\n"
     ]
    }
   ],
   "source": [
    "def partition(arr, lo=0, hi=None):\n",
    "    \"\"\"\n",
    "    Performs one round of partitioning on the given array\n",
    "    Inputs: arr is a list, lo and hi are integers representing indices\n",
    "    Output: the index where items to left are < item, items to the right\n",
    "        are > item\n",
    "    Partition swaps are done in place\n",
    "    \"\"\"\n",
    "    if hi is None:\n",
    "        hi = len(arr)\n",
    "\n",
    "    pivot = arr[hi - 1]\n",
    "    i = lo\n",
    "    for j in range(lo, hi):\n",
    "        if arr[j] < pivot:\n",
    "            arr[i], arr[j] = arr[j] , arr[i]\n",
    "            i += 1\n",
    "    arr[i], arr[hi - 1] = arr[hi - 1], arr[i]\n",
    "    return i\n",
    "\n",
    "\n",
    "def qsort(arr, lo=0, hi=None):\n",
    "    \"\"\"\n",
    "    Quicksort implementation; performs recursive calls on subarrays\n",
    "        after each round of partitioning it\n",
    "    Inputs: arr is a list, lo and hi are integers representing indices\n",
    "    Output: None, sort done in place\n",
    "    \"\"\"\n",
    "    if hi is None:\n",
    "        hi = len(arr)\n",
    "    if hi - lo < 2:\n",
    "        return\n",
    "    pivot = partition(arr, lo, hi)\n",
    "\n",
    "    qsort(arr, lo, pivot)\n",
    "    qsort(arr, pivot + 1, hi)\n",
    "\n",
    "    \n",
    "def quicksort(arr):\n",
    "    \"\"\"\n",
    "    Wrapper for qsort that first shuffles the array\n",
    "    Input: arr is a list\n",
    "    Output: None, sort done in place\n",
    "    \"\"\"\n",
    "    import random\n",
    "    random.shuffle(arr)\n",
    "    qsort(arr)\n",
    "\n",
    "\n",
    "a = list(\"QUICKSORTEXAMPLE\")\n",
    "print(\"ARRAY: {}\".format(a))\n",
    "quicksort(a)  # Sorting done in place\n",
    "print(\"Quicksort results: {}\".format(a))\n",
    "nums = list(range(1, 11))\n",
    "quicksort(nums)\n",
    "print(nums)"
   ]
  },
  {
   "cell_type": "markdown",
   "metadata": {},
   "source": [
    "## Selection\n",
    "\n",
    "The **selection** problem is related to sorting - the goal is to find the $k^{th}$ largest item out of a set of $N$ items. The minimum would be $k = 0$, maximum would be $k = N - 1$, and the median would be $k = N / 2$.\n",
    "\n",
    "Is there a linear algorithm for every $k$?\n",
    "\n",
    "You can use a version similar to quicksort: partition the array so that entry `a[j]` is in place, there's no larger entry to the left of `j` and no smaller entry to the right of `j`. Then repeat in one subarray, depending on `j`, finished when `j` equals `k`.\n",
    "\n",
    "The number of compares are linear - which is the main advantage of quick select over quicksort."
   ]
  },
  {
   "cell_type": "code",
   "execution_count": 45,
   "metadata": {},
   "outputs": [
    {
     "name": "stdout",
     "output_type": "stream",
     "text": [
      "Find 6-smallest item in [0, 1, 2, 3, 4, 5, 6, 7, 8, 9]\n",
      "Shuffled array: [9, 7, 2, 8, 4, 3, 0, 5, 1, 6]\n",
      "Item: 6\n"
     ]
    }
   ],
   "source": [
    "def quickSelect(arr, k):\n",
    "    \"\"\"\n",
    "    Returns the kth largest item out of array a\n",
    "    \"\"\"\n",
    "    import random\n",
    "    random.shuffle(arr)\n",
    "    print(\"Shuffled array: {}\".format(arr))\n",
    "    \n",
    "    lo = 0\n",
    "    hi = len(arr)\n",
    "    \n",
    "    while hi > lo:\n",
    "        j = partition(arr, lo, hi)\n",
    "        if j < k:\n",
    "            lo = j + 1\n",
    "        elif j > k:\n",
    "            hi = j  # Not j - 1 because partition doesn't include it\n",
    "        else:\n",
    "            return arr[k]\n",
    "    \n",
    "    return arr[k]\n",
    "\n",
    "b = list(range(10))\n",
    "k = 6\n",
    "print(\"Find {}-smallest item in {}\".format(k, b))\n",
    "print(\"Item: {}\".format(quickSelect(b, k)))"
   ]
  },
  {
   "cell_type": "code",
   "execution_count": null,
   "metadata": {
    "collapsed": true
   },
   "outputs": [],
   "source": []
  }
 ],
 "metadata": {
  "kernelspec": {
   "display_name": "Python 3",
   "language": "python",
   "name": "python3"
  },
  "language_info": {
   "codemirror_mode": {
    "name": "ipython",
    "version": 3
   },
   "file_extension": ".py",
   "mimetype": "text/x-python",
   "name": "python",
   "nbconvert_exporter": "python",
   "pygments_lexer": "ipython3",
   "version": "3.6.1"
  }
 },
 "nbformat": 4,
 "nbformat_minor": 2
}
