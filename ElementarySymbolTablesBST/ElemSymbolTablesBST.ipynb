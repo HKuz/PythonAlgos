{
 "cells": [
  {
   "cell_type": "markdown",
   "metadata": {},
   "source": [
    "# Elementary Symbol Tables and Binary Search Trees\n",
    "\n",
    "A **symbol table** is a key-value pair abstraction where you can *insert* a value with a specified key, and given a key, *search* for the corresponding value.\n",
    "\n",
    "One example is a domain name server (DNS) lookup, where the URL is the key and the IP address is the value. There are many other examples in computing. In genomics, you can use a symbol table to find markers in a genome where the key is DNA string, and the value is the known position.\n",
    "\n",
    "The basic symbol table API is to set up an **associative array abstraction**, which associates one value with each key. One simple implementation is to use an array, where the index is the key (the drawback is that the key must be an integer). The two basic operations are `put(key, value)` to insert a new key-value pair, and `get(key)` to retrieve the value associated with the given key.\n",
    "\n",
    "Other operations you'll probably want include a `delete(key)` operation to remove a key-value pair, a `contains(key)` operation to return a Boolean whether a key is there or not, an `isEmpty()` one to check if the table is empty, a `size()` operation to get the number of key-value pairs, and an iterable `keys()` to return all the keys in the table.\n",
    "\n",
    "Some general conventions are:\n",
    "- Values are not `null`\n",
    "- The `get()` method returns `null` if a key isn't present\n",
    "- The `put()` method overwrites an old value with new value if the key is already in the table\n",
    "\n",
    "Implementation of `contains()`:\n",
    "\n",
    "```py\n",
    "def contains(key):\n",
    "    return get(key) != None\n",
    "```\n",
    "\n",
    "Lazy implementation of `delete()`:\n",
    "\n",
    "```py\n",
    "def delete(key):\n",
    "    put(key, None)\n",
    "```\n",
    "\n",
    "## Keys and Values\n",
    "\n",
    "The values should be any generic type, but there are some assumptions for keys:\n",
    "- Assume keys are comparable (is one less than another?)\n",
    "- Assume keys are any generic type, and you can test them for equality\n",
    "- Assume keys are any generic type, and you can scramble them\n",
    "\n",
    "A best practice is to use immutable types for symbol table keys.\n",
    "\n",
    "\n",
    "## Equality Test (Java-specific)\n",
    "\n",
    "Equality tests in Java should meet the following criteria (for any references `x`, `y`, and `z`):\n",
    "- Reflexive: `x.equals(x)` is `True`\n",
    "- Symmetric: `x.equals(y)` iff `y.equals(x)`\n",
    "- Transitive: if `x.equals(y)` and `y.equals(z)`, then `x.equals(z)`\n",
    "- Non-null: `x.equals(null)` is `False`\n",
    "\n",
    "The default implementation in Java is `(x == y)` - do they refer to the same object? The \"standard\" recipe to check equality for user-defined types is:\n",
    "- Optimization for reference equlity (do they refer to the same object)\n",
    "- Check against `null`\n",
    "- Check that two objects are of the same type and cast\n",
    "- Compare each significant field (for primitives use `==`, for objects use `equals()`, and if field is an array, apply to each entry)"
   ]
  },
  {
   "cell_type": "markdown",
   "metadata": {
    "collapsed": true
   },
   "source": [
    "## Elementary Implementations\n",
    "\n",
    "To come"
   ]
  }
 ],
 "metadata": {
  "kernelspec": {
   "display_name": "Python 3",
   "language": "python",
   "name": "python3"
  },
  "language_info": {
   "codemirror_mode": {
    "name": "ipython",
    "version": 3
   },
   "file_extension": ".py",
   "mimetype": "text/x-python",
   "name": "python",
   "nbconvert_exporter": "python",
   "pygments_lexer": "ipython3",
   "version": "3.6.1"
  }
 },
 "nbformat": 4,
 "nbformat_minor": 2
}
