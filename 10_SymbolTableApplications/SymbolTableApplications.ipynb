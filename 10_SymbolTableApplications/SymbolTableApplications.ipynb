{
 "cells": [
  {
   "cell_type": "markdown",
   "metadata": {},
   "source": [
    "## Symbol Table Applications\n",
    "\n",
    "Here are some common real-world applications that use symbol tables."
   ]
  },
  {
   "cell_type": "markdown",
   "metadata": {},
   "source": [
    "### Sets\n",
    "\n",
    "A mathematical **set** is a collection of distinct keys. The data structure is even simpler than symbol tables because there's no associated value, just keys. The implementation is just to remove any reference to \"value\" in any of the symbol table structures.\n",
    "\n",
    "Another application is an **exception filter**, where you read in a list of words from one file, then print out all the words from standard input that are {in, not in} the given list. Useful in spell checkers (identify misspelled words), in a browser (mark visited pages, block sites), or with credit cards (check for stolen cards)."
   ]
  },
  {
   "cell_type": "markdown",
   "metadata": {},
   "source": [
    "### Dictionary Clients\n",
    "\n",
    "An example of a dictionary client is to create an application that builds a symbol table off a CSV file, which takes three arguments: the file name, an integer for which column/field to use as the key, and an integer for which one to use as the value.\n",
    "\n",
    "For example, a CSV file of website domain names in one column and IP addresses in the other. You'd run the program name \"LookupCSV\" from the command line with: `python LookupCSV ip.csv 0 1`.\n",
    "\n",
    "Since ordered operations (such as rank and ordered iteration) are not needed, a hash table implementation (such as linear probing) is most suitable for this example."
   ]
  },
  {
   "cell_type": "markdown",
   "metadata": {},
   "source": [
    "### Indexing Clients\n",
    "\n",
    "Another common function easily handled by symbol tables is indexing.\n",
    "\n",
    "For file indexing, the goal is to create an index for a list of specified files so that you can efficiently find all the files that contain a given search query string. Spotlight or Find programs on your computer do this.\n",
    "\n",
    "You can implement with a symbol table where the key is the query string and the value is the set of files containing that string."
   ]
  },
  {
   "cell_type": "markdown",
   "metadata": {},
   "source": [
    "### Sparse Vectors\n",
    "\n",
    "Sparse vectors in math present another way to apply symbol tables. When there are a lot of zero entries in a matrix (\"sparse\"), the standard dot product implementation (taking the sum product of a matrix row with a vector column) isn't as efficient as it could be.\n",
    "\n",
    "For a vector, the classic representation is a 1D array, where every element is saved in the array. You have constant time access to elements but the space is proportional to $N$.\n",
    "\n",
    "The symbol table representation for a vector (a **sparse vector**) uses the index as the key and the entry as the value for only non-zero entries. It is an efficient iterator and the space used is proportional to the number of non-zero entries. You can use a hash table, because the order in which you process the entries isn't important, you just want non-zero values.\n",
    "\n",
    "For a matrix, the classic representation is a 2D array, where each row of the matrix is saves as an array, and the space is proportional to $N^2$. Instead, you can use a sparse matrix representation where each row of the matrix is a sparse vector. You have efficient access to the elements and the space is proportional to the number of non-zero entries (plus $N$)."
   ]
  }
 ],
 "metadata": {
  "kernelspec": {
   "display_name": "Python 3",
   "language": "python",
   "name": "python3"
  },
  "language_info": {
   "codemirror_mode": {
    "name": "ipython",
    "version": 3
   },
   "file_extension": ".py",
   "mimetype": "text/x-python",
   "name": "python",
   "nbconvert_exporter": "python",
   "pygments_lexer": "ipython3",
   "version": "3.6.1"
  }
 },
 "nbformat": 4,
 "nbformat_minor": 2
}
