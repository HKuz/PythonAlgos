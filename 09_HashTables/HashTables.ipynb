{
 "cells": [
  {
   "cell_type": "markdown",
   "metadata": {},
   "source": [
    "# Hash Tables\n",
    "\n",
    "A **hash table** is a data structure that implements symbol tables  with constant-time performance for core operations, provided that search keys are standard data types or simply defined. It uses different access to the data compared to other BSTs, and doesn't support ordered operations."
   ]
  },
  {
   "cell_type": "markdown",
   "metadata": {},
   "source": [
    "## Hashing\n",
    "\n",
    "The basic idea of **hashing** is to save items in a *key-indexed table* where the index is a function of the key. A **hash function** is a method for computing the array index from the given key.\n",
    "\n",
    "Issues:\n",
    "\n",
    "- Computing the hash function\n",
    "- Equality test: method for checking whether two keys are equal\n",
    "- Collision resolution: algorithm and data structure to handle two keys that hash to the same array index\n",
    "\n",
    "Hashing is a classic space-time tradeoff. With no space limitation, you use a trivial hash function with the key as the index. With no time limitation, you hash everything to the same place (use a trivial collision resolution) and do sequential search. With space and time limitations, you use hashing.\n",
    "\n",
    "**Computing the hash function**\n",
    "\n",
    "The idealistic goal is to scramble the keys uniformly to produce a table index - it's efficiently computable and each table index is equally likely for each key.\n",
    "\n",
    "There are usually built-in methods in your language of choice for doing this with different data types.\n",
    "\n",
    "**Modular hashing:**\n",
    "\n",
    "- Hash code: an integer between $-2^{31}$ and $2^{31} - 1$\n",
    "- Hash function: an integer between $0$ and $M - 1$ (for use as the array index). $M - 1$ is typically a prime or a power of 2"
   ]
  },
  {
   "cell_type": "code",
   "execution_count": null,
   "metadata": {
    "collapsed": true
   },
   "outputs": [],
   "source": []
  }
 ],
 "metadata": {
  "kernelspec": {
   "display_name": "Python 3",
   "language": "python",
   "name": "python3"
  },
  "language_info": {
   "codemirror_mode": {
    "name": "ipython",
    "version": 3
   },
   "file_extension": ".py",
   "mimetype": "text/x-python",
   "name": "python",
   "nbconvert_exporter": "python",
   "pygments_lexer": "ipython3",
   "version": "3.6.1"
  }
 },
 "nbformat": 4,
 "nbformat_minor": 2
}
