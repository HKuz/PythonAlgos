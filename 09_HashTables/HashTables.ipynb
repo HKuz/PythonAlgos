{
 "cells": [
  {
   "cell_type": "markdown",
   "metadata": {},
   "source": [
    "# Hash Tables\n",
    "\n",
    "A **hash table** is a data structure that implements symbol tables  with constant-time performance for core operations, provided that search keys are standard data types or simply defined. It uses different access to the data compared to other BSTs, and doesn't support ordered operations."
   ]
  },
  {
   "cell_type": "markdown",
   "metadata": {},
   "source": [
    "## Hashing and Hash Functions\n",
    "\n",
    "The basic idea of **hashing** is to save items in a *key-indexed table* where the index is a function of the key. A **hash function** is a method for computing the array index from the given key.\n",
    "\n",
    "Issues:\n",
    "\n",
    "- Computing the hash function\n",
    "- Equality test: method for checking whether two keys are equal\n",
    "- Collision resolution: algorithm and data structure to handle two keys that hash to the same array index\n",
    "\n",
    "Hashing is a classic space-time tradeoff. With no space limitation, you use a trivial hash function with the key as the index. With no time limitation, you hash everything to the same place (use a trivial collision resolution) and do sequential search. In the real world with space and time limitations, you use hashing.\n",
    "\n",
    "**Computing the hash function**\n",
    "\n",
    "The idealistic goal is to scramble the keys uniformly to produce a table index - it's efficiently computable and each table index is equally likely for each key. You have an array the size of $M$ and $N$ keys to insert.\n",
    "\n",
    "There are usually built-in methods in your language of choice for doing this with different data types.\n",
    "\n",
    "**Modular hashing:**\n",
    "\n",
    "- Hash code: an integer between $-2^{31}$ and $2^{31} - 1$\n",
    "- Hash function: you want it to produce an integer between $0$ and $M - 1$ (for use as the array index). $M$ is typically a prime or a power of 2\n",
    "\n",
    "The math that makes this work is to hash the key, get rid of the sign by taking `and` with $2^{31}$ in hexidecimal, then mod with $M$: `(hash(key) & 0x7fffffff) % M`.\n",
    "\n",
    "The **uniform hashing assumption** is that each key is equally likely to hash to an integer between $0$ and $M - 1$. Think of throwing balls at random into $M$ bins. The **birthday problem** (when will you expect your first collision, or when 2 people in a room have the same birthday) is you'd expect two balls in the same bin after ~$\\sqrt{\\pi M / 2}$ tosses. The **coupon collector** assumption is that you expect every bin has $\\geq 1$ ball after ~$M \\ln M$ tosses. And the **load balancing** problem says that after $M$ tosses, you expect that the most loaded bin has $\\Theta (\\log M / \\log \\log M)$ balls."
   ]
  },
  {
   "cell_type": "markdown",
   "metadata": {},
   "source": [
    "## Separate Chaining\n",
    "\n",
    "**Separate chaining** is a collision resolution strategy that makes use of the linked list data structure. A collision happens when two distinct keys hash to the same index.\n",
    "\n",
    "The **birthday problem** said that you need huge amounts of memory (quadratic) to avoid a collision, which is too much in practice. And the **coupon collector** and **load balancing** problems said that collisions will be evenly distributed. \n",
    "\n",
    "So, how do you handle collisions efficiently?\n",
    "\n",
    "Separate chaining is one solution that uses an array of $M \\lt N$ linked lists:\n",
    "\n",
    "- Hash: map kay to integer $i$ between $0$ and $M - 1$\n",
    "- Insert: put at front of $i^{th}$ chain (if not already there)\n",
    "- Search: need to search only $i^{th}$ chain\n",
    "\n",
    "Proposition is that under the uniform hashing assumption, the probability that the number of keys in a list is within a constant factor of $N/M$ is extremely close to $1$. The proof shows that the distribution of the list size obeys a binomial distribution.\n",
    "\n",
    "The consequence is that the number of probes for search/insert is proportional to $N/M$:\n",
    "\n",
    "- $M$ is too large $\\implies$ too many empty chains\n",
    "- $M$ is too small $\\implies$ chains are too long\n",
    "- Typical choice: $M \\text{~} N/5$ for constant-time operations"
   ]
  },
  {
   "cell_type": "markdown",
   "metadata": {},
   "source": [
    "## Linear Probing\n",
    "\n",
    "**Linear probing** is another popular collision resolution method. It uses **open addressing**, so when a key collides, it finds the next empty slot and puts the data there. Instead of keeping linked lists in positions along an array, you just allocate an array the size of the data.\n",
    "\n",
    "The idea is to first hash the key to map it to an integer $i$ between $0$ and $M-1$. Then insert the key at index $i$ in the array if that slot if free, if not, try $i+1$, $i+2$, etc. To search, get the hash of the key, check index $i$ in the array, if that slot is occupied but there's no match, try $i+1$, $i+2$, etc. until you find it or hit an empty slot. A group of keys in consecutive slots in the array are called a cluster.\n",
    "\n",
    "The size of the array $M$ *must be* greater than the number of key-value pairs $N$. Implementations usually include array re-sizing code to adjust $M$ for the size of the data.\n",
    "\n",
    "In the earlier days of computing where memory was at a premium, a lot of care went into preventing empty keys or linked lists. One observation was that new keys were likely to hash into the middle of big clusters, and big clusters were likely to get longer.\n",
    "\n",
    "**Knuth's parking problem** frames it as cars parking on a one-way street, if every car starts looking for a place at a random time, how far do they have to go to find a spot? He could show that if half the spots are occupied ($M/2$), on average, half find a spot in one place, half go one more spot (mean displacement of ~$3/2$). But when it's full ($M$ cars), the mean displacement is ~$\\sqrt{\\pi M/8}$.\n",
    "\n",
    "**Proposition:** under uniform hashing assumption, the average number of probes in a linear probing hash table of size $M$ that contains $N = \\alpha M$ keys is:\n",
    "\n",
    "**Search hit:**\n",
    "$$\n",
    "\\text{~} \\frac{1}{2} \\bigg( 1 + \\frac{1}{(1-\\alpha)} \\bigg)\n",
    "$$\n",
    "\n",
    "**Search miss or Insert:**\n",
    "$$\n",
    "\\text{~} \\frac{1}{2} \\bigg( 1 + \\frac{1}{(1-\\alpha)^2} \\bigg)\n",
    "$$\n",
    "\n",
    "**Parameters:**\n",
    "\n",
    "- $M$ too large $\\implies$ too many empty array entries\n",
    "- $M$ too small $\\implies$ search time blows up\n",
    "- Typical choice: $\\alpha = N/M \\text{~} \\frac{1}{2}$ so the number of probes for a hit is ~3/2 and for search miss/insert is ~5/2"
   ]
  },
  {
   "cell_type": "code",
   "execution_count": 1,
   "metadata": {
    "collapsed": true
   },
   "outputs": [],
   "source": [
    "class LinearProbingHashST:\n",
    "    def __init__(self, M):\n",
    "        self.M = M\n",
    "        self.key_arr = [None] * M\n",
    "        self.vals_arr = [None] * M\n",
    "        self.count = 0\n",
    "    \n",
    "    def hash_function(self, key):\n",
    "        return (hash(key) & 0x7fffffff) % self.M\n",
    "\n",
    "    def put(self, key, value):\n",
    "        # Inserts key and value into arrays at hashed or next avail index\n",
    "        i = self.hash_function(key)\n",
    "        while self.key_arr[i] is not None and self.key_arr[i] != key:\n",
    "            # Will be inf loop if array is full and doesn't contain key\n",
    "            i = (i + 1) % self.M\n",
    "        self.key_arr[i] = key\n",
    "        self.vals_arr[i] = value\n",
    "        self.count += 1\n",
    "    \n",
    "    def get(self, key):\n",
    "        i = self.hash_function(key)\n",
    "        while self.key_arr[i] is not None:\n",
    "            # Will be inf loop if array is full and doesn't contain key\n",
    "            if key == self.key_arr[i]:\n",
    "                return self.vals_arr[i]\n",
    "            i = (i + 1) % self.M\n",
    "        return None\n",
    "    \n",
    "    def __contains__(self, key):\n",
    "        return self.get(key) is not None\n",
    "    \n",
    "    def __str__(self):\n",
    "        return str(self.key_arr)\n",
    "    \n",
    "    def __len__(self):\n",
    "        return self.count"
   ]
  },
  {
   "cell_type": "code",
   "execution_count": 2,
   "metadata": {},
   "outputs": [
    {
     "name": "stdout",
     "output_type": "stream",
     "text": [
      "['P', None, None, 'T', 'A', 'Z', 'H', 'E', 'S', 'Q', 'B']\n",
      "7\n",
      "7\n",
      "3\n",
      "8\n",
      "4\n",
      "9\n",
      "3\n",
      "6\n",
      "4\n"
     ]
    }
   ],
   "source": [
    "lin_probe = LinearProbingHashST(11)\n",
    "for letter in ['E', 'S', 'T', 'Q', 'A', 'B', 'Z', 'H', 'P']:\n",
    "    lin_probe.put(letter, lin_probe.hash_function(letter))\n",
    "print(lin_probe)\n",
    "for letter in ['E', 'S', 'T', 'Q', 'A', 'B', 'Z', 'H', 'P']:\n",
    "    print(lin_probe.get(letter))"
   ]
  },
  {
   "cell_type": "markdown",
   "metadata": {},
   "source": [
    "## Hash Table Context\n",
    "\n",
    "To come"
   ]
  },
  {
   "cell_type": "markdown",
   "metadata": {},
   "source": [
    "## Search Tree Summary\n",
    "\n",
    "The worst case (WC) is after $N$ inserts, and the average case (AC) is after $N$ random inserts.\n",
    "\n",
    "The height of any red-black BST on $n$ keys (regardless of the order of insertion) is guaranteed to be between $\\log⁡_{2} n$ and $2 \\log_{⁡2}n$.\n",
    "\n",
    "| Implementation | WC Search | WC Insert | WC Delete | AC Search | AC Insert | AC Delete | Ordered Iteration? |\n",
    "| --- | --- | --- | --- | --- | --- | --- | --- |\n",
    "| Sequential Search (unordered list) | $N$ | $N$ | $N$ | $N/2$ | $N$ | $N/2$ | No |\n",
    "| Binary Search (ordered array) | $\\lg N$ | $N$ | $N$ | $\\lg N$ | $N/2$ | $N/2$ | Yes |\n",
    "| Binary Search Tree (BST) | $N$ | $N$ | $N$ | $1.39 \\lg N$ | $1.39 \\lg N$ | ? | Yes |\n",
    "| 2-3 Tree | $c \\lg N$ | $c \\lg N$ | $c \\lg N$ | $c \\lg N$ | $c \\lg N$ | $c \\lg N$ | Yes |\n",
    "| Red-Black BST | $2 \\lg N$ | $2 \\lg N$ | $2 \\lg N$ | $1.00 \\lg N$\\* | $1.00 \\lg N$\\* | $1.00 \\lg N$ | Yes |\n",
    "| Separate Chaining | $\\lg N$\\*\\* | $\\lg N$\\*\\* | $\\lg N$\\*\\* | $3 \\cdot 5$\\*\\* | $3 \\cdot 5$\\*\\* | $3 \\cdot 5$\\*\\* | No |\n",
    "| Linear Probing | $\\lg N$\\*\\* | $\\lg N$\\*\\* | $\\lg N$\\*\\* | $3 \\cdot 5$\\*\\* | $3 \\cdot 5$\\*\\* | $3 \\cdot 5$\\*\\* | No |\n",
    "\n",
    "\\* Exact coefficient unknown but extremely close to 1  \n",
    "\\*\\* Under uniform hashing assumption"
   ]
  }
 ],
 "metadata": {
  "kernelspec": {
   "display_name": "Python 3",
   "language": "python",
   "name": "python3"
  },
  "language_info": {
   "codemirror_mode": {
    "name": "ipython",
    "version": 3
   },
   "file_extension": ".py",
   "mimetype": "text/x-python",
   "name": "python",
   "nbconvert_exporter": "python",
   "pygments_lexer": "ipython3",
   "version": "3.6.1"
  }
 },
 "nbformat": 4,
 "nbformat_minor": 2
}
