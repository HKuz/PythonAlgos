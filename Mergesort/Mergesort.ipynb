{
 "cells": [
  {
   "cell_type": "markdown",
   "metadata": {},
   "source": [
    "# Mergesort\n",
    "\n",
    "**Mergesort** is one of two classic sorting problems (along with quicksort) that is still heavily used even 50 years later. They are critical components in the world's computational infrastructure.\n",
    "\n",
    "The basic idea for mergesort is to divide the array into two halves, recursively sort each half, then merge the two halves. Merging is the key here, given two sorted subarrays `a[lo]` to `a[mid]` and `a[mid+1]` to `a[hi]`, your goal is to replace them with a sorted subarray `a[lo]` to `a[hi]`.\n",
    "\n",
    "Good practice to put assertions into your code to check that what you expect is true (here that the merge function is expecting the two subarrays are actually sorted). You can enable or disable at runtime - by default they're disabled.\n",
    "\n",
    "Next step is to implement the **sort** part of the procedure, which recursively splits the array in half, then merges the pieces in order."
   ]
  },
  {
   "cell_type": "code",
   "execution_count": 1,
   "metadata": {},
   "outputs": [
    {
     "name": "stdout",
     "output_type": "stream",
     "text": [
      "Merge: ['A', 'G', 'H', 'I', 'L', 'M', 'O', 'R', 'S', 'T']\n"
     ]
    }
   ],
   "source": [
    "def merge(arr, mid):\n",
    "    '''\n",
    "    Assumes there's a midpoint mid such that the subarray from the indices\n",
    "    0 to mid is sorted and the subarray from indices mid+1 to the end is\n",
    "    sorted. Returns the sorted array\n",
    "    '''\n",
    "    if len(arr) == 1:\n",
    "        return arr\n",
    "    lo = 0\n",
    "    hi = len(arr) - 1\n",
    "#     assert all(arr[i] <= arr[i+1] for i in range(lo, mid))\n",
    "#     assert all(arr[j] <= arr[j+1] for j in range(mid + 1, hi))\n",
    "    \n",
    "    aux = arr[lo:hi + 1]\n",
    "    i, j = lo, mid + 1\n",
    "    for k in range(lo, hi + 1):\n",
    "        if i > mid:\n",
    "            # i index is exhausted\n",
    "            arr[k] = aux[j]\n",
    "            j += 1\n",
    "        elif j > hi:\n",
    "            # j index is exhausted\n",
    "            arr[k] = aux[i]\n",
    "            i += 1\n",
    "        elif aux[j] < aux[i]:\n",
    "            arr[k] = aux[j]\n",
    "            j += 1\n",
    "        else:\n",
    "            arr[k] = aux[i]\n",
    "            i += 1\n",
    "\n",
    "    return arr\n",
    "\n",
    "a = ['A', 'G', 'L', 'O', 'R', 'H', 'I', 'M', 'S', 'T']\n",
    "mid = 4\n",
    "\n",
    "print(\"Merge: {}\".format(merge(a, mid)))\n",
    "\n",
    "# Force an assertion error\n",
    "# b = ['G', 'A', 'L', 'R', 'O', 'H', 'I', 'M', 'S', 'T']\n",
    "# merge(b, mid)"
   ]
  },
  {
   "cell_type": "code",
   "execution_count": 2,
   "metadata": {},
   "outputs": [
    {
     "data": {
      "text/plain": [
       "['A', 'G', 'H', 'I', 'L', 'M', 'O', 'R', 'S', 'T']"
      ]
     },
     "execution_count": 2,
     "metadata": {},
     "output_type": "execute_result"
    }
   ],
   "source": [
    "def mergeSort(arr):\n",
    "    if len(arr) == 1:\n",
    "        return arr\n",
    "    else:\n",
    "        mid = (len(arr) - 1) // 2\n",
    "        return merge(mergeSort(arr[:mid + 1]) + mergeSort(arr[mid + 1:]), mid)\n",
    "\n",
    "\n",
    "c = ['A', 'G', 'L', 'O', 'R', 'H', 'I', 'M', 'S', 'T']\n",
    "mergeSort(c)"
   ]
  },
  {
   "cell_type": "markdown",
   "metadata": {},
   "source": [
    "## Mergesort Analysis\n",
    "\n",
    "Mergesort is a **divide and conquer** algorithm. Good algorithms are more effective than super computers - the empirical analysis shows insertion sort would take 37 years on an average home computer for 1 billion items, where mergesort would take a week or so.\n",
    "\n",
    "The proposition is that mergesort uses at most $N \\lg N$ compares and $6 N \\lg N$ array accesses to sort any array of size $N$.\n",
    "\n",
    "**Running time**: You can draw a recurrence relation - the number of compares $C(N)$ and array accesses $A(N)$ to mergesort an array of size $N$ satisfy the recurrences:\n",
    "\n",
    "$$\n",
    "C(N) \\leq C([N/2]) + C[N/2]) + N \\text{ for } N \\gt 1 \\text{, with } C(1) = 0 \\\\\n",
    "A(N) \\leq A([N/2]) + A[N/2]) + 6N \\text{ for } N \\gt 1 \\text{, with } A(1) = 0\n",
    "$$\n",
    "\n",
    "**Memory usage**: Mergesort uses extra space proportional to $N$ because the `aux[]` array needs to be of size $N$ for the last merge. **NOT in place**.\n",
    "\n",
    "**Practical improvements**:\n",
    "\n",
    "- Use insertion sort for small subarrays, mergesort has too much overhead for tiny subarrays. Have a cutoff to use insertion sort (7 items or less)\n",
    "- Stop if already sorted - this happens if the biggest item in the first half is $\\leq$ the smallest item in the second half. This helps for partially sorted arrays\n",
    "- Eliminate the copy to the auxiliary array (saves time, not space) by switching the role of the input and auxiliary arrays in each recursive call"
   ]
  },
  {
   "cell_type": "markdown",
   "metadata": {},
   "source": [
    "## Bottom-up Mergesort\n",
    "\n",
    "**Botton-up mergesort** is a version without recursion - it starts with mini subarrays of size one, merges them into order by twos, then fours, etc.\n",
    "\n",
    "There are $\\lg N$ passes, using about $N$ compares, for a total cost of about $N \\lg N$."
   ]
  },
  {
   "cell_type": "code",
   "execution_count": 3,
   "metadata": {},
   "outputs": [
    {
     "name": "stdout",
     "output_type": "stream",
     "text": [
      "Bottom-up mergesort: ['A', 'G', 'H', 'I', 'L', 'M', 'O', 'R', 'S', 'T']\n"
     ]
    }
   ],
   "source": [
    "def mergeSortBU(arr):\n",
    "    N = len(arr)\n",
    "    for sz in [2**i for i in range(N) if 2**i < N]:\n",
    "        for lo in range(0, N - sz, sz + sz):\n",
    "            mid = sz - 1\n",
    "            hi = min(lo + sz + sz - 1, N - 1)\n",
    "            arr[lo:hi + 1] = merge(arr[lo:hi + 1], mid)\n",
    "    return arr\n",
    "\n",
    "d = ['A', 'G', 'L', 'O', 'R', 'H', 'I', 'M', 'S', 'T']\n",
    "print(\"Bottom-up mergesort: {}\".format(mergeSortBU(d)))"
   ]
  },
  {
   "cell_type": "markdown",
   "metadata": {
    "collapsed": true
   },
   "source": [
    "## Sorting Complexity\n",
    "\n",
    "**Computational complexity** is a framework to study efficiency of algorithms for solving a particular problem $X$. To evaluate the complexity of sorting (or any task $X$), you need:\n",
    "\n",
    "- Model of computation: allowable operations\n",
    "- Cost model: operation count(s)\n",
    "- Upper bound: cost guarantee provided by some algorithm for $X$\n",
    "- Lower bound: proven limit on cost guarantee of all algorithms for $X$\n",
    "- Optimal algorithm: algorithm with best possible cost guarantee for $X$ (ideally, find one where the upper and lower bound are the same)\n",
    "\n",
    "Sorting uses a decision tree as the model of computation, the cost is the number of compares, the upper bound is ~$N \\lg N$ from mergesort, and start with an unknown lower bound or optimal algorithm.\n",
    "\n",
    "With a decision tree, make a comparison (first element to second), then branch whether the first element is less than the second element or not. The **height** of the tree is the **worst-case number of compares**. So for compare-based sorting, any algorithm must use at least $\\lg (N!) \\text{ ~ } N \\lg N$ (by Stirling's formula) compares in the worst case.\n",
    "\n",
    "Proof:\n",
    "\n",
    "- Assume the array consists of $N$ distinct values $a_1$ through $a_N$\n",
    "- The worst case is dictated by height $h$ of the decision tree\n",
    "- Binary tree of height $h$ has at most $2^h$ leaves\n",
    "- $N!$ different orderings $\\implies$ at least $N!$ leaves\n",
    "\n",
    "$$\n",
    "2^h \\geq \\text{ # leaves } \\geq N! \\\\\n",
    "\\implies h \\geq \\lg (N!) \\text{ ~ } N \\lg N\n",
    "$$\n",
    "\n",
    "Therefore, the lower bound is ~$N \\lg N$, which is the same as the upper bound, and the optimal algorithm is mergesort. Note, mergesort is optimal with respect to the number of compares, but it's NOT optimal with respect to space usage. What you can takeaway is you shouldn't try to find fewer number of compares than mergesort, as it hits the lower bound. But you can try to find one with better space usage, while maintaining the number of compares.\n",
    "\n",
    "Note also that the complexity results are only for number of compares - that lower bound may not hold if the algorithm has information about the initial order of the input, the distribution of key values, or the representation of the keys. For example, you may not need $N \\lg N$ compares for a partially-ordered array or when one has duplicate keys."
   ]
  },
  {
   "cell_type": "markdown",
   "metadata": {},
   "source": [
    "## Stability\n",
    "\n",
    "**Stability** is the property where a sort preserves the relative order of the items with duplicate keys. This is relevant when you first sort by one field, then by a subfield (like last name then first name). Not all sort implementations are stable.\n",
    "\n",
    "Stable:\n",
    "\n",
    "- Insertion sort\n",
    "- Mergesort\n",
    "\n",
    "Not stable:\n",
    "\n",
    "- Selection sort\n",
    "- Shellsort\n",
    "\n",
    "You can tell by carefully checking the code for \"less than\" or \"less than or equal to\".\n",
    "\n",
    "**Insertion sort is stable** because you never move an equal item past each other. **Selection sort and Shellsort are not stable** because long-distance exchanges might move an item past some equal item. **Mergesort is stable**, as long as the merge operation is, which depends on how it's implemented (takes from the left subarray if the keys are equal)."
   ]
  }
 ],
 "metadata": {
  "kernelspec": {
   "display_name": "Python 3",
   "language": "python",
   "name": "python3"
  },
  "language_info": {
   "codemirror_mode": {
    "name": "ipython",
    "version": 3
   },
   "file_extension": ".py",
   "mimetype": "text/x-python",
   "name": "python",
   "nbconvert_exporter": "python",
   "pygments_lexer": "ipython3",
   "version": "3.6.1"
  }
 },
 "nbformat": 4,
 "nbformat_minor": 2
}
