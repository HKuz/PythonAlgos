{
 "cells": [
  {
   "cell_type": "markdown",
   "metadata": {},
   "source": [
    "# Stacks and Queues\n",
    "\n",
    "Bags, stacks, and queues are fundamental data structures that hold a collection of objects.\n",
    "\n",
    "They have operations to insert, remove, iterate, and test if they're empty. Stacks and queues differ on how items are inserted and removed.\n",
    "\n",
    "- **Stack** uses LIFO (last in first out), where you examine the item most recently added\n",
    "    - add new items: *push*\n",
    "    - remove items: *pop*\n",
    "- **Queue** uses FIFO (first in first out), where you examine the item least recently added\n",
    "    - add new items: *enqueue*\n",
    "    - remove items: *dequeue*\n",
    "\n",
    "Modular programming is the idea to completely separate the interface (the client) and the details of an implementation. The client has many implementations from which to choose, but only performs basic operations. Alternatively, the implementation doesn't know the client's needs, it only implements operations:\n",
    "\n",
    "- Client: program using operations defined in the interface\n",
    "- Implementation: the actual code implementing the operations\n",
    "- Interface: description of data type, basic operations\n",
    "\n",
    "## Stacks\n",
    "\n",
    "Use a linked list to implement a stack. A **linked list** is group of nodes, where each node has the item and a reference (pointer) to the next node. New items become the first item in the list and pop operations remove the current first item."
   ]
  }
 ],
 "metadata": {
  "kernelspec": {
   "display_name": "Python 3",
   "language": "python",
   "name": "python3"
  },
  "language_info": {
   "codemirror_mode": {
    "name": "ipython",
    "version": 3
   },
   "file_extension": ".py",
   "mimetype": "text/x-python",
   "name": "python",
   "nbconvert_exporter": "python",
   "pygments_lexer": "ipython3",
   "version": "3.6.1"
  }
 },
 "nbformat": 4,
 "nbformat_minor": 2
}
