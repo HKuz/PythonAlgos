{
 "cells": [
  {
   "cell_type": "markdown",
   "metadata": {},
   "source": [
    "# Stacks and Queues\n",
    "\n",
    "Bags, stacks, and queues are fundamental data structures that hold a collection of objects.\n",
    "\n",
    "They have operations to insert, remove, iterate, and test if they're empty. Stacks and queues differ on how items are inserted and removed.\n",
    "\n",
    "- **Stack** uses LIFO (last in first out), where you examine the item most recently added\n",
    "    - add new items: *push*\n",
    "    - remove items: *pop*\n",
    "- **Queue** uses FIFO (first in first out), where you examine the item least recently added\n",
    "    - add new items: *enqueue*\n",
    "    - remove items: *dequeue*\n",
    "\n",
    "Modular programming is the idea to completely separate the interface (the client) and the details of an implementation. The client has many implementations from which to choose, but only performs basic operations. Alternatively, the implementation doesn't know the client's needs, it only implements operations:\n",
    "\n",
    "- Client: program using operations defined in the interface\n",
    "- Implementation: the actual code implementing the operations\n",
    "- Interface: description of data type, basic operations"
   ]
  },
  {
   "cell_type": "markdown",
   "metadata": {},
   "source": [
    "## Stacks\n",
    "\n",
    "Use a linked list to implement a stack. A **linked list** is group of nodes, where each node has the item and a reference (pointer) to the next node. New items become the first item in the list and pop operations remove the current first item.\n",
    "\n",
    "For a pop operation, save the first node's item, update your first pointer to point to the next item (the second node), then delete the first node.\n",
    "\n",
    "For a push operation, save a link to the existing first node in a variable, create a new node where the item is the new item and the pointer to the next node is the saved link."
   ]
  },
  {
   "cell_type": "code",
   "execution_count": 4,
   "metadata": {
    "collapsed": true
   },
   "outputs": [],
   "source": [
    "class Node(object):\n",
    "    def __init__(self, item=None, next_node=None):\n",
    "        self.item = item\n",
    "        self.next_node = next_node\n",
    "\n",
    "    def get_item(self):\n",
    "        return self.item\n",
    "\n",
    "    def get_next(self):\n",
    "        return self.next_node\n",
    "\n",
    "    def set_next(self, new_next):\n",
    "        self.next_node = new_next\n",
    "\n",
    "class LinkedStackOfStrings(object):\n",
    "    def __init__(self, head=None):\n",
    "        self.head = head\n",
    "    \n",
    "    def push(self, s):\n",
    "        first = Node(s)\n",
    "        first.set_next(self.head)\n",
    "        self.head = first\n",
    "    \n",
    "    def pop(self):\n",
    "        item = self.head.item\n",
    "        self.head = self.head.get_next()\n",
    "        return item\n",
    "    \n",
    "    def size(self):\n",
    "        current = self.head\n",
    "        count = 0\n",
    "        while current:\n",
    "            count += 1\n",
    "            current = current.get_next()\n",
    "        return count\n",
    "    \n",
    "    def isEmpty(self):\n",
    "        return self.size() == 0"
   ]
  },
  {
   "cell_type": "code",
   "execution_count": 9,
   "metadata": {},
   "outputs": [
    {
     "data": {
      "text/plain": [
       "True"
      ]
     },
     "execution_count": 9,
     "metadata": {},
     "output_type": "execute_result"
    }
   ],
   "source": [
    "linked_list = LinkedStackOfStrings()\n",
    "linked_list.isEmpty()"
   ]
  },
  {
   "cell_type": "code",
   "execution_count": 10,
   "metadata": {},
   "outputs": [
    {
     "data": {
      "text/plain": [
       "'not'"
      ]
     },
     "execution_count": 10,
     "metadata": {},
     "output_type": "execute_result"
    }
   ],
   "source": [
    "linked_list.push('to')\n",
    "linked_list.push('be')\n",
    "linked_list.push('or')\n",
    "linked_list.push('not')\n",
    "linked_list.pop()"
   ]
  },
  {
   "cell_type": "code",
   "execution_count": 11,
   "metadata": {},
   "outputs": [
    {
     "data": {
      "text/plain": [
       "3"
      ]
     },
     "execution_count": 11,
     "metadata": {},
     "output_type": "execute_result"
    }
   ],
   "source": [
    "linked_list.size()"
   ]
  },
  {
   "cell_type": "code",
   "execution_count": 12,
   "metadata": {},
   "outputs": [
    {
     "data": {
      "text/plain": [
       "'or'"
      ]
     },
     "execution_count": 12,
     "metadata": {},
     "output_type": "execute_result"
    }
   ],
   "source": [
    "linked_list.pop()"
   ]
  },
  {
   "cell_type": "code",
   "execution_count": 13,
   "metadata": {},
   "outputs": [
    {
     "data": {
      "text/plain": [
       "False"
      ]
     },
     "execution_count": 13,
     "metadata": {},
     "output_type": "execute_result"
    }
   ],
   "source": [
    "linked_list.isEmpty()"
   ]
  },
  {
   "cell_type": "markdown",
   "metadata": {},
   "source": [
    "### Performance of Stacks\n",
    "\n",
    "Time proposition: every operation takes constant time in the worst case.\n",
    "\n",
    "Space proposition: A stack with $N$ items uses ~40 $N$ bytes (per Java notes - depends on implementation in the machine. 16 bytes for object overhead, 8 bytes each for inner class overhead, reference to a string, and reference to Node object - the client owns the strings themselves).\n",
    "\n",
    "Another implementation is to use an array for a stack. Using an array vs. a linked list is a decision that will come up a lot. They have their pros and cons. The array would use `s[]` to store $N$ items, `push()` adds a new item at `s[N]`, and `pop()` removes the item from `s[N-1]`. One concern with using an array is you have to declare the size of it out of the gate - this places a capacity on the stack, and it overflows when $N$ exceeds that capacity.\n",
    "\n",
    "\n",
    "### Stack Considerations\n",
    "\n",
    "You have overflow and underflow considerations:\n",
    "\n",
    "- Underflow: throw an exception if pop from an empty stack\n",
    "- Overflow: use a resizing array for array implementation\n",
    "- Null items: currently allow null items to be inserted\n",
    "- Loitering: holding a reference to an object when it is no longer needed"
   ]
  },
  {
   "cell_type": "markdown",
   "metadata": {},
   "source": [
    "### Resizing an Array\n",
    "\n",
    "If you use an array, you'll need to resize it when inputs reach capacity. Copying first $N$ items from the array to a new area of memory is expensive (~$\\frac{N^2}{2}$) - the challenge is to ensure this happens infrequently.\n",
    "\n",
    "One method is **repeated doubling** - double the size of the array each time you hit capacity. The cost doing it this way grows with $N$. The cost of inserting the first $N$ items is $N + (2 + 4 + 8 + \\ldots + N) \\approx 3N$ - the array access per push plus $k$ array accesses to double to size $k$.\n",
    "\n",
    "How to shrink the array? Can try doubling the size of the array when it's full, and halving when it's one-half full. Problem here is the case the client hits a full array, then does push-pop-push-pop sequence (\"thrashing\" scenario). Each operation would take time proportional to $N$. The efficient solution for this is to double the size of the array when it's full, then halve the size of the array when it's one-quarter full."
   ]
  },
  {
   "cell_type": "markdown",
   "metadata": {},
   "source": [
    "### Trade-offs between Resizing an Array vs. Using a Linked List\n",
    "\n",
    "You can implement a stack with either resizing array or linked list, and the client can use them interchangeably.\n",
    "\n",
    "**Linked list implementation**\n",
    "- Every operation takes constant time in the worst case\n",
    "- Uses extra time and space to deal with the links\n",
    "\n",
    "**Resizing-array implementation**\n",
    "- Every operation takes constant amortized time\n",
    "- Less wasted space"
   ]
  },
  {
   "cell_type": "markdown",
   "metadata": {},
   "source": [
    "## Queues\n",
    "\n",
    "Queue implementations need to maintain two pointers: one at the front of the list and one at the end. Items you add go to the end and items you remove come off the front.\n",
    "\n",
    "You can implement a queue with a linked list or a resizing array (little trickier)."
   ]
  },
  {
   "cell_type": "markdown",
   "metadata": {},
   "source": [
    "## Generics\n",
    "\n",
    "Above implementations are for strings, but what about other data types? This is where **generics** come in.\n",
    "\n",
    "First attempt was to implement a stack class for each data type you're implementing. Not ideal, and necessary until Java 1.5.\n",
    "\n",
    "Second attempt in Java was to implement a stack with items of type `Object`, where casting was required in the client. Casting is error-prone (you get a runtime error if types mismatch).\n",
    "\n",
    "Third attempt was to use Java generics. This avoids casting in the client and would discover type mismatch errors at compile-time instead of run-time. A general guiding principle is to avoid run-time errors but welcome compile-time errors.\n",
    "\n",
    "The implementation for a generic is similar to the linked-list stack for strings, except it uses a generic `Item` type. The generic stack array implementation doesn't quite work in Java - it doesn't allow generic array creations. You have to create an array of `Objects`, then cast which you generally try to avoid.\n",
    "\n",
    "Use Java's wrapper object type for primitives. Each primitive type has a wrapper object type, then autoboxing will cast between a primitive type and its wrapper."
   ]
  },
  {
   "cell_type": "markdown",
   "metadata": {},
   "source": [
    "## Iterators\n",
    "\n",
    "Another Java facility is iteration on the given collection, without revealing the internal representation (linked list vs. an array). An `Iterable` has a method that returns an `Iterator`, and an `Iterator` has methods `hasNext()` and `next()`."
   ]
  },
  {
   "cell_type": "markdown",
   "metadata": {},
   "source": [
    "## Bags\n",
    "\n",
    "Bags are a collection of items where order doesn't matter. The main application is adding items and iterating over them."
   ]
  }
 ],
 "metadata": {
  "kernelspec": {
   "display_name": "Python 3",
   "language": "python",
   "name": "python3"
  },
  "language_info": {
   "codemirror_mode": {
    "name": "ipython",
    "version": 3
   },
   "file_extension": ".py",
   "mimetype": "text/x-python",
   "name": "python",
   "nbconvert_exporter": "python",
   "pygments_lexer": "ipython3",
   "version": "3.6.1"
  }
 },
 "nbformat": 4,
 "nbformat_minor": 2
}
