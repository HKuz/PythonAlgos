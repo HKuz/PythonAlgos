{
 "cells": [
  {
   "cell_type": "markdown",
   "metadata": {},
   "source": [
    "# Elementary Sorts\n",
    "\n",
    "The **sorting problem** is to re-arrange an array of $n$ items into ascending order according to a defined key which is part of the item. The goal is to sort any type of data - but how to know how to sort different types of data without knowing the type of the item's key?\n",
    "\n",
    "A **callback** is a reference to executable code. The client passes the array of objects to the `sort()` function, and the `sort()` function calls back object's `compareTo()` method as needed. In Python, you implement a callback with a first-class function.\n",
    "\n",
    "There's a compare function (Java has the Comparable interface) that handles the different data types, and defines how to determine order between two items. The **total order** is a binary relation $\\leq$ that satisfies:\n",
    "\n",
    "- Antisymmetry: if $v \\leq w$ and $w \\leq v$, then $v = w$\n",
    "- Transitivity: if $v \\leq w$ and $w \\leq x$, then $v \\leq x$\n",
    "- Totality: either $v \\leq w$ or $w \\leq v$ or both\n",
    "\n",
    "Examples are alphabetical order for strings or numerical ordering of numbers. Rock, paper, scissors would not work under transitivity.\n",
    "\n",
    "When you implement a `compare()` function:\n",
    "- There is a total order\n",
    "- It (`v.compareTo(w)`) returns a negative integer, zero, or positive integer when $v$ is less than, equal to, or greater than $w$, respectively\n",
    "- It throws an exception if they are incomparable types (or either is `null`)\n",
    "\n",
    "Two useful abstractions (helper functions) include one for checking if an item is less than another (uses the `compareTo()` function), and one to exchange the item at index `i` with that at index `j`."
   ]
  },
  {
   "cell_type": "markdown",
   "metadata": {},
   "source": [
    "## Selection Sort\n",
    "\n"
   ]
  }
 ],
 "metadata": {
  "kernelspec": {
   "display_name": "Python 3",
   "language": "python",
   "name": "python3"
  },
  "language_info": {
   "codemirror_mode": {
    "name": "ipython",
    "version": 3
   },
   "file_extension": ".py",
   "mimetype": "text/x-python",
   "name": "python",
   "nbconvert_exporter": "python",
   "pygments_lexer": "ipython3",
   "version": "3.6.1"
  }
 },
 "nbformat": 4,
 "nbformat_minor": 2
}
