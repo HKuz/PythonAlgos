{
 "cells": [
  {
   "cell_type": "markdown",
   "metadata": {},
   "source": [
    "# Priority Queues\n",
    "\n",
    "A **priority queue** is a variant of sorting that generalizes the idea to provide a more flexible data structure, that you can then use for other applications. It doesn't remove the most recently added item (stack), the least recently added item (queue), or a random item (randomized queue), but the **largest** (or **smallest**) item. The items need to be comparable.\n",
    "\n",
    "Some applications for priority queues are:\n",
    "\n",
    "- Event-driven simulations (customers in a line, colliding particles)\n",
    "- Numerical computation (reducing roundoff errors)\n",
    "- Data compression (Huffman codes)\n",
    "- Graph searching (Dijkstra's algorithm, Prim's algorithm)\n",
    "- Number theory (sum of powers)\n",
    "- Artificial intelligence (A\\* search)\n",
    "- Statistics (maintain largest $M$ values in a sequence)\n",
    "- Operating systems (load balancing, interrupt handling)\n",
    "- Discrete optimization (bin packing, scheduling)\n",
    "- Spam filtering (Bayesian spam filter)\n",
    "\n",
    "A priority queue is an abstraction for a stack, queue, or randomized queue.\n",
    "\n",
    "Client example: finding the largest $M$ items in a stream of $N$ items. This applies to fraud detection (you want to isolate the largest dollar transactions) or file maintenance (you want to find the biggest files or directories). For each new item, insert an item if it's larger than the smallest of the top $M$ biggest ones, then remove the smallest.\n",
    "\n",
    "Several ways to implement a priority queue. One way is you can tack new items onto a linked list, then scan entire set to find the maximum when needed (insert is constant time, but removing and finding the max is $N$ running time). Another way is to order the items as they are added (insert is $N$ running time, remove max and find max are constant). The goal is $\\log N$ for all operations."
   ]
  },
  {
   "cell_type": "markdown",
   "metadata": {},
   "source": [
    "## Binary Heaps\n",
    "\n",
    "A **binary heap** is a simple data structure based on a binary tree. A **binary tree** is either empty or it's a node with links to the left and right binary tree. A complete tree is perfectly balanced except for the bottom level (each level is full). The height of the complete tree with $N$ nodes is $\\log N$ and only increases when $N$ is a power of two.\n",
    "\n",
    "In the array representation, indices start at 1 (ignore 0), then you take the nodes in level order. For a **heap-ordered binary tree**, the keys are in the nodes and a parent node's key is no smaller than its children's keys. The largest key `a[1]` is the root of the binary tree. You can use the array indices to move through the tree - the parent of the node at $k$ is $k/2$ (integer division). The children of the node at $k$ are $2k$ and $2k + 1$.\n",
    "\n",
    "When a node is larger than its parent, you exchange the key in the child node with the key in the parent node, and repeat until the heap is ordered.\n",
    "\n",
    "To insert into a heap, add a node at the end, then \"swim\" it up - there's at most $1 + \\lg N$ compares.\n",
    "\n",
    "Demotion in a heap happens when a parent's key is smaller than one (or both) of its children's keys. To fix, you exchange the key in the parent with the key in the larger child, and repeat until the heap is ordered.\n",
    "\n",
    "To delete the maximum value of a heap (the root), first swap the root key with the node at the end, remove it, then sink the swapped node until the heap is ordered. The cost is at most $2 \\lg N$ compares.\n",
    "\n",
    "**Summary**:\n",
    "\n",
    "- Binary heap insert: $\\log N$\n",
    "- Binary heap delete max: $\\log N$\n",
    "- Binary heap max: 1\n",
    "\n",
    "Considerations:\n",
    "\n",
    "- Use immutable keys\n",
    "- Throw an exception if you delete from an empty priority queue (underflow)\n",
    "- Can easily switch to a minimum priority queue (use less than vs. greater than compares)\n",
    "- Implement other operations like removing an arbitrary item or changing the priority of an item"
   ]
  },
  {
   "cell_type": "code",
   "execution_count": 1,
   "metadata": {
    "collapsed": true
   },
   "outputs": [],
   "source": [
    "class Heap():\n",
    "    pass"
   ]
  },
  {
   "cell_type": "markdown",
   "metadata": {},
   "source": [
    "## Heapsort\n",
    "\n"
   ]
  }
 ],
 "metadata": {
  "kernelspec": {
   "display_name": "Python 3",
   "language": "python",
   "name": "python3"
  },
  "language_info": {
   "codemirror_mode": {
    "name": "ipython",
    "version": 3
   },
   "file_extension": ".py",
   "mimetype": "text/x-python",
   "name": "python",
   "nbconvert_exporter": "python",
   "pygments_lexer": "ipython3",
   "version": "3.6.1"
  }
 },
 "nbformat": 4,
 "nbformat_minor": 2
}
