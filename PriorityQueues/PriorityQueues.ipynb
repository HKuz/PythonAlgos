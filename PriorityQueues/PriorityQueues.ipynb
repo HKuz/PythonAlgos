{
 "cells": [
  {
   "cell_type": "markdown",
   "metadata": {},
   "source": [
    "# Priority Queues\n",
    "\n",
    "A **priority queue** is a variant of sorting that generalizes the idea to provide a more flexible data structure, that you can then use for other applications. It doesn't remove the most recently added item (stack), the least recently added item (queue), or a random item (randomized queue), but the **largest** (or **smallest**) item. The items need to be comparable.\n",
    "\n",
    "Some applications for priority queues are:\n",
    "\n",
    "- Event-driven simulations (customers in a line, colliding particles)\n",
    "- Numerical computation (reducing roundoff errors)\n",
    "- Data compression (Huffman codes)\n",
    "- Graph searching (Dijkstra's algorithm, Prim's algorithm)\n",
    "- Number theory (sum of powers)\n",
    "- Artificial intelligence (A\\* search)\n",
    "- Statistics (maintain largest $M$ values in a sequence)\n",
    "- Operating systems (load balancing, interrupt handling)\n",
    "- Discrete optimization (bin packing, scheduling)\n",
    "- Spam filtering (Bayesian spam filter)\n",
    "\n"
   ]
  }
 ],
 "metadata": {
  "kernelspec": {
   "display_name": "Python 3",
   "language": "python",
   "name": "python3"
  },
  "language_info": {
   "codemirror_mode": {
    "name": "ipython",
    "version": 3
   },
   "file_extension": ".py",
   "mimetype": "text/x-python",
   "name": "python",
   "nbconvert_exporter": "python",
   "pygments_lexer": "ipython3",
   "version": "3.6.1"
  }
 },
 "nbformat": 4,
 "nbformat_minor": 2
}
