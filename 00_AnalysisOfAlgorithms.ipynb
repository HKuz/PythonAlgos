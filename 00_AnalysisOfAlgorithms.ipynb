{
 "cells": [
  {
   "cell_type": "markdown",
   "metadata": {},
   "source": [
    "# Analysis of Algorithms\n",
    "\n",
    "This analysis of algorithms will focus on **running time** - how many times does a discrete computation happen to get a result?\n",
    "\n",
    "Reasons to analyze algorithms:\n",
    "\n",
    "- Predict performance\n",
    "- Compare algorithms\n",
    "- Provide guarantees\n",
    "- Understand theoretical basis\n",
    "\n",
    "The primary practical reason is to avoid performance bugs.\n",
    "\n",
    "You want to know if your program will be able to solve a large practical input, you use the **scientific method** to understand its performance:\n",
    "\n",
    "- **Observe** some feature of the natural world\n",
    "- **Hypothesize** a model that is consistent with the observations\n",
    "- **Predict** events using the hypothesis\n",
    "- **Verify** the predictions by making further observations\n",
    "- **Validate** by repeating until the hypothesis and observations agree\n",
    "\n",
    "Experiments must be **reproducible** and hypotheses must be **falsifiable**."
   ]
  },
  {
   "cell_type": "markdown",
   "metadata": {},
   "source": [
    "## Observations\n",
    "\n",
    "The first step is to make some observations about the running time of a program.\n",
    "\n",
    "1. Run empirical analysis: time how long a program takes to run\n",
    "2. Analyze the data: plot the running time $T(N)$ versus input size $N$\n",
    "    - Usually plot $\\lg(T(N))$ vs $lgN$, and check the slope\n",
    "    - Regression analysis fits a straight line through the data, where **power law** states: $aN^b$, where $b$ is the slope. Example:\n",
    "\n",
    "$$\n",
    "y = mx + b \\\\\n",
    "\\lg(T(N)) = b \\; \\lg(N) + c \\\\\n",
    "T(N) = a \\; N^b \\text{ where } a=2^c\n",
    "$$\n",
    "\n",
    "Most algorithms have some form of the power law involved when you're analyzing them.\n",
    "\n",
    "The system you run the experiments on will make a difference in some areas. System independent effects are the **algorithm** and the **input data**, which determine the exponent $b$ in the power law (slope of the line in a log-log scale graph). System dependent effects include **hardware** (CPU, memory, cache), **software** (compiler, interpreter, garbage collector), and the **system** (operating system, network, other applications). These determine the constant $a$ in the power law.\n"
   ]
  },
  {
   "cell_type": "markdown",
   "metadata": {},
   "source": [
    "## Mathematical Models\n",
    "\n",
    "Observing the behavior of an algorithm helps to predict performance, but to understand what the algorithm is doing you need mathematical models.\n",
    "\n",
    "The **total running time** is the sum of cost X frequency for all operations. You need to analyze the program to determine the set of operations. The cost depends on the machine, the compiler, etc. The frequency depends on the algorithm and input data.\n",
    "\n",
    "Earlier days, computers would list the time it took to perform certain operations (integer addition, float addition, etc.). With modern machines, you'd run an analysis if you really wanted to know.\n",
    "\n",
    "One simplification is to look at the costs and use some basic operation as a proxy for running time. For example, array accesses in a nested loop adding all integers in an array to see if any pair sums to zero.\n",
    "\n",
    "Another simplification is use **tilda notation** which ignores the lower-order terms in the cost formulas you derive. For example, $\\frac{1}{6} N^3 + 20N + 16$ would simplify to ~$\\frac{1}{6}N^3$.\n",
    "\n",
    "In principle, accurate mathematical models are available. In practice, formulas can be complicated, advanced mathematics might not be required, and exact models are best left for the experts. **Approximate models are usually good enough.**\n"
   ]
  },
  {
   "cell_type": "markdown",
   "metadata": {},
   "source": [
    "## Order of Growth Classifications\n",
    "\n",
    "There's only a small set of functions that describe order-of-growth of typical algorithms: $logN$, $N$, $NlogN$, $N^2$, $N^3$, and $2^N$. These classifications come from patterns in the code. No loops? Will be constant time.\n",
    "\n",
    "| Order of Growth | Name | Typical Code Framework | Description | Example |\n",
    "| - | - | - | - | - |\n",
    "| 1 | Constant | $a = b + c$ | Statement | Add two numbers |\n",
    "| $\\log N$ | Logarithmic | while (N > 1) {N = N / 2;...} | Divide in half | Binary search |\n",
    "| $N$ | Linear | for loop | Loop | Find the maximum |\n",
    "| $N \\log N$ | Linearithmic | mergesort | Divide and conquer | Mergesort |\n",
    "| $N^2$ | Quadratic | nested for loops | Double loop | Check all pairs |\n",
    "| $N^3$ | Cubic | triple nested for loops | Triple loop | Check all triples |\n",
    "| $2^N$ | Exponential | Combinatorial search | Exhaustive search | Check all subsets |\n"
   ]
  },
  {
   "cell_type": "markdown",
   "metadata": {},
   "source": [
    "## Binary Search Example"
   ]
  },
  {
   "cell_type": "code",
   "execution_count": 4,
   "metadata": {
    "collapsed": true
   },
   "outputs": [],
   "source": [
    "def binarySearch(a, key):\n",
    "    lo, hi = 0, len(a) - 1\n",
    "    while lo <= hi:\n",
    "        mid = lo + (hi - lo) // 2\n",
    "        if key < a[mid]:\n",
    "            hi = mid - 1\n",
    "        elif key > a[mid]:\n",
    "            lo = mid + 1\n",
    "        else:\n",
    "            return mid\n",
    "    return -1"
   ]
  },
  {
   "cell_type": "code",
   "execution_count": 5,
   "metadata": {},
   "outputs": [
    {
     "name": "stdout",
     "output_type": "stream",
     "text": [
      "Index of 33 is 4\n",
      "Index of 34 is -1\n"
     ]
    }
   ],
   "source": [
    "a = [6, 13, 14, 25, 33, 43, 51, 53, 64, 72, 84, 93, 95, 96, 97]\n",
    "key_1 = 33\n",
    "print(\"Index of {} is {}\".format(key_1, binarySearch(a, key_1)))\n",
    "key_2 = 34\n",
    "print(\"Index of {} is {}\".format(key_2, binarySearch(a, key_2)))"
   ]
  },
  {
   "cell_type": "markdown",
   "metadata": {},
   "source": [
    "## Theory of Algorithms\n",
    "\n",
    "There are three types of analyses:\n",
    "\n",
    "1. **Best case:** lower bound on cost, determined by the \"easiest\" input, and provides a goal for all inputs\n",
    "2. **Worst case:** upper bound on cost, determined by \"most difficult\" input, and provides a guarantee for all inputs\n",
    "3. **Average case: ** expected cost for random input, you need a model for \"random\" input, but it provides a way to predict performance\n",
    "\n",
    "What if the actual data doesn't match your input model? You need to understand the input to effectively process it. One approach is to design for the worst case scenario, other approach is to randomize, depending on some kind of probabilistic guarantee.\n",
    "\n",
    "Goals:\n",
    "\n",
    "- Establish \"difficulty\" of a problem\n",
    "- Develop \"optimal\" algorithm\n",
    "\n",
    "Approach:\n",
    "\n",
    "- Suppress details in analysis: analyze to \"within a constant factor\"\n",
    "- Eliminate variability in the input model by focusing on the worst case\n",
    "\n",
    "Optimal algorithm:\n",
    "\n",
    "- Performance guarantee (to within a constant factor) for any input\n",
    "- No algorithm can provide a better performance guarantee\n",
    "\n",
    "Commonly-used notations in the theory of algorithms:\n",
    "\n",
    "| Notation | Provides | Example | Used To |\n",
    "| - | - | - | - |\n",
    "| Big Theta | Asymptotic order of growth | $\\Theta (N^2)$ | Classify algorithms |\n",
    "| Big Oh | $\\Theta (N^2)$ and smaller | $O(N^2)$ | Develop upper bounds |\n",
    "| Big Omega | $\\Theta (N^2)$ and larger | $\\Omega(N^2)$ | Develop lower bounds |\n",
    "\n",
    "The algorithm design approach has been successful over the past several decades. Methodology:\n",
    "\n",
    "- Develop an algorithm\n",
    "- Prove a lower bound\n",
    "- Is there a gap between the upper and lower bound?\n",
    "- Lower the upper bound (discover a new algorithm)\n",
    "- Raise the lower bound (more difficult)\n",
    "\n",
    "One mistake is to interpret the big-Oh as an approximate model for how long an algorithm runs."
   ]
  },
  {
   "cell_type": "markdown",
   "metadata": {},
   "source": [
    "## Analysis Summary\n",
    "\n",
    "Empirical analysis:\n",
    "\n",
    "- Execute program to perform experiments\n",
    "- Assume power law and formulate a hypothesis for running time\n",
    "- Model enables you to **make predictions**\n",
    "\n",
    "Mathematical analysis:\n",
    "\n",
    "- Analyze algorithm to count frequency of operations\n",
    "- Use tilde notation to simplify analysis\n",
    "- Model enables you to **explain behavior**\n",
    "\n",
    "Scientific method:\n",
    "\n",
    "- Mathematical model is independent of a particular system; applies to machines not yet built\n",
    "- Empirical analysis is necessary to validate mathematical models and to make predictions\n"
   ]
  },
  {
   "cell_type": "markdown",
   "metadata": {},
   "source": [
    "## Sorting Algorithms Summary\n",
    "\n",
    "| Algorithm | Inplace? | Stable? | Worst-Case | Average-Case | Best-Case | Comments |\n",
    "| - | - | - | - | - | - | - |\n",
    "| Selection | X |  | $N^2 / 2$ | $N^2 / 2$ | $N^2 / 2$ | $N$ exchanges |\n",
    "| Insertion | X | X | $N^2 / 2$ | $N^2 / 4$ | $N$ | Use for small $N$ or partially ordered |\n",
    "| Shell | X |  | ? | ? | $N$ | Tight code, subquadratic |\n",
    "| Quick | X |  | $N^2 / 2$ | $2N \\lg N$ | $N \\lg N$ | $N \\lg N$ probabilistic guarantee fastest in practice |\n",
    "| 3-Way Quick | X |  | $N^2 / 2$ | $2 N \\lg N$ | $N$ | Improves quicksort in presence of duplicate keys |\n",
    "| Merge |  | X | $N \\lg N$ | $N \\lg N$ | $N \\lg N$ | $N \\lg N$ guarantee, stable |\n",
    "| Heap | X |  | $2N \\lg N$ | $2N \\lg N$ | $N \\lg N$ | $N \\lg N$ guarantee, in-place |\n",
    "| ??? | X | X | $N \\lg N$ | $N \\lg N$ | $N \\lg N$ | Holy sorting grail |"
   ]
  },
  {
   "cell_type": "markdown",
   "metadata": {},
   "source": [
    "## Search Tree Summary\n",
    "\n",
    "The worst case (WC) is after $N$ inserts, and the average case (AC) is after $N$ random inserts.\n",
    "\n",
    "The height of any red-black BST on $n$ keys (regardless of the order of insertion) is guaranteed to be between $\\log⁡_{2} n$ and $2 \\log_{⁡2}n$.\n",
    "\n",
    "| Implementation | WC Search | WC Insert | WC Delete | AC Search | AC Insert | AC Delete | Ordered Iteration? |\n",
    "| --- | --- | --- | --- | --- | --- | --- | --- |\n",
    "| Sequential Search (unordered list) | $N$ | $N$ | $N$ | $N/2$ | $N$ | $N/2$ | No |\n",
    "| Binary Search (ordered array) | $\\lg N$ | $N$ | $N$ | $\\lg N$ | $N/2$ | $N/2$ | Yes |\n",
    "| Binary Search Tree (BST) | $N$ | $N$ | $N$ | $1.39 \\lg N$ | $1.39 \\lg N$ | ? | Yes |\n",
    "| 2-3 Tree | $c \\lg N$ | $c \\lg N$ | $c \\lg N$ | $c \\lg N$ | $c \\lg N$ | $c \\lg N$ | Yes |\n",
    "| Red-Black BST | $2 \\lg N$ | $2 \\lg N$ | $2 \\lg N$ | $1.00 \\lg N$\\* | $1.00 \\lg N$\\* | $1.00 \\lg N$ | Yes |\n",
    "| Hash: Separate Chaining | $\\lg N$\\*\\* | $\\lg N$\\*\\* | $\\lg N$\\*\\* | $3 \\cdot 5$\\*\\* | $3 \\cdot 5$\\*\\* | $3 \\cdot 5$\\*\\* | No |\n",
    "| Hash: Linear Probing | $\\lg N$\\*\\* | $\\lg N$\\*\\* | $\\lg N$\\*\\* | $3 \\cdot 5$\\*\\* | $3 \\cdot 5$\\*\\* | $3 \\cdot 5$\\*\\* | No |\n",
    "\n",
    "\\* Exact coefficient unknown but extremely close to 1  \n",
    "\\*\\* Under uniform hashing assumption"
   ]
  }
 ],
 "metadata": {
  "kernelspec": {
   "display_name": "Python 3",
   "language": "python",
   "name": "python3"
  },
  "language_info": {
   "codemirror_mode": {
    "name": "ipython",
    "version": 3
   },
   "file_extension": ".py",
   "mimetype": "text/x-python",
   "name": "python",
   "nbconvert_exporter": "python",
   "pygments_lexer": "ipython3",
   "version": "3.6.1"
  }
 },
 "nbformat": 4,
 "nbformat_minor": 2
}
