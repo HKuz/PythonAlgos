{
 "cells": [
  {
   "cell_type": "markdown",
   "metadata": {},
   "source": [
    "# Union Find\n",
    "\n",
    "Solves the problem of dynamic connectivity.\n",
    "\n",
    "Given a set of $N$ objects:\n",
    "- Union command: connects two object\n",
    "- Find/connected query: is there a path connecting two objects?\n",
    "\n",
    "Connectivity properties:\n",
    "- Reflexive: $p$ is connected to $p$\n",
    "- Symmetric: if $p$ is connected to $q$, then $q$ is connected to $p$\n",
    "- Transitive: if $p$ is connected to $q$ and $q$ is connected to $r$, then $p$ is connected to $r$\n",
    "\n",
    "After making a number of connections between objects, you end up with sets of mutually-connected components.\n",
    "\n",
    "The goal of the algorithm is to design an efficient data structure for union-find - may have a huge number of objects $N$ or operations $M$, and the find queries and union commands may be intermixed."
   ]
  },
  {
   "cell_type": "markdown",
   "metadata": {},
   "source": [
    "## Quick-find: the eager approach\n",
    "\n",
    "Quick-find uses an integer array `id[]` of length $N$, where the index represents each object, and $p$ and $q$ are connected if and only if they have the same id (same number stored in the array at their respective indices).\n",
    "\n",
    "In general, quick-find is slow (order of growth of number of array accesses - read/write):\n",
    "\n",
    "| Algorithm | Initialize | Union | Find |\n",
    "| - | - | - | - |\n",
    "| quick-find | N | N | 1|\n",
    "\n",
    "The defect with this algorithm is that the `union` operation is too expensive - it takes $N^2$ (quadratic) array accesses to process a sequence of $N$ union commands on $N$ objects.\n",
    "\n",
    "Quadratic algorithms aren't acceptable for problems, in general, they don't scale with new technology.\n",
    "\n",
    "**Conclusion:** quick-find is too slow for big problems."
   ]
  },
  {
   "cell_type": "code",
   "execution_count": 3,
   "metadata": {
    "collapsed": true
   },
   "outputs": [],
   "source": [
    "class QuickFindUF():\n",
    "    def __init__(self, N):\n",
    "        self.id = [i for i in range(N)]\n",
    "    \n",
    "    def connected(self, p, q):\n",
    "        return self.id[p] == self.id[q]\n",
    "    \n",
    "    def union(self, p, q):\n",
    "        pid = self.id[p]\n",
    "        qid = self.id[q]\n",
    "        for i in range(len(self.id)):\n",
    "            if self.id[i] == pid:\n",
    "                self.id[i] = qid\n",
    "        print(\"ID: {}\".format(self.id))"
   ]
  },
  {
   "cell_type": "code",
   "execution_count": 8,
   "metadata": {},
   "outputs": [
    {
     "name": "stdout",
     "output_type": "stream",
     "text": [
      "ID: [8, 1, 2, 3, 4, 5, 6, 7, 8, 9]\n"
     ]
    }
   ],
   "source": [
    "quick_find = QuickFindUF(10)\n",
    "quick_find.union(0, 8)"
   ]
  },
  {
   "cell_type": "code",
   "execution_count": 9,
   "metadata": {},
   "outputs": [
    {
     "data": {
      "text/plain": [
       "True"
      ]
     },
     "execution_count": 9,
     "metadata": {},
     "output_type": "execute_result"
    }
   ],
   "source": [
    "quick_find.connected(0, 8)"
   ]
  },
  {
   "cell_type": "code",
   "execution_count": 10,
   "metadata": {},
   "outputs": [
    {
     "data": {
      "text/plain": [
       "False"
      ]
     },
     "execution_count": 10,
     "metadata": {},
     "output_type": "execute_result"
    }
   ],
   "source": [
    "quick_find.connected(3, 4)"
   ]
  },
  {
   "cell_type": "markdown",
   "metadata": {},
   "source": [
    "## Quick-union: the lazy approach\n",
    "\n",
    "Quick-union uses an integer array `id[]` of length $N$, where `id[i]` is the parent of `i`. The root of `i` is `id[id[id[...id[i]...]]]`.\n",
    "\n",
    "The `connected` method checks whether $p$ and $q$ have the same root. The `union` method merges components by setting the `id` of $p$'s root to the `id` of $q$'s root.\n",
    "\n",
    "| Algorithm | Initialize | Union | Find |\n",
    "| - | - | - | - |\n",
    "| quick-find | N | N | 1|\n",
    "| quick-union | N | N\\* | N|\n",
    "\\* includes cost of finding roots\n",
    "\n",
    "Defect with this algorithm is that the trees can get too tall. The `find` operation is too expensive (could be $N$ array accesses)."
   ]
  },
  {
   "cell_type": "code",
   "execution_count": 12,
   "metadata": {
    "collapsed": true
   },
   "outputs": [],
   "source": [
    "class QuickUnionUF():\n",
    "    def __init__(self, N):\n",
    "        self.id = [i for i in range(N)]\n",
    "    \n",
    "    def root(self, i):\n",
    "        while i != self.id[i]:\n",
    "            i = self.id[i]\n",
    "        return i\n",
    "    \n",
    "    def connected(self, p, q):\n",
    "        return self.root(p) == self.root(q)\n",
    "    \n",
    "    def union(self, p, q):\n",
    "        i = self.root(p)\n",
    "        j = self.root(q)\n",
    "        self.id[i] = j\n",
    "        print(\"ID: {}\".format(self.id))"
   ]
  },
  {
   "cell_type": "code",
   "execution_count": 14,
   "metadata": {},
   "outputs": [
    {
     "name": "stdout",
     "output_type": "stream",
     "text": [
      "ID: [8, 1, 2, 3, 4, 5, 6, 7, 8, 9]\n",
      "ID: [8, 1, 8, 3, 4, 5, 6, 7, 8, 9]\n"
     ]
    }
   ],
   "source": [
    "quick_union = QuickUnionUF(10)\n",
    "quick_union.union(0, 8)\n",
    "quick_union.union(2, 8)"
   ]
  },
  {
   "cell_type": "code",
   "execution_count": 15,
   "metadata": {},
   "outputs": [
    {
     "data": {
      "text/plain": [
       "True"
      ]
     },
     "execution_count": 15,
     "metadata": {},
     "output_type": "execute_result"
    }
   ],
   "source": [
    "quick_union.connected(0, 8)"
   ]
  },
  {
   "cell_type": "code",
   "execution_count": 16,
   "metadata": {},
   "outputs": [
    {
     "data": {
      "text/plain": [
       "False"
      ]
     },
     "execution_count": 16,
     "metadata": {},
     "output_type": "execute_result"
    }
   ],
   "source": [
    "quick_union.connected(3, 4)"
   ]
  },
  {
   "cell_type": "markdown",
   "metadata": {},
   "source": [
    "## Improvements\n",
    "\n",
    "One possible improvement to these algorithms is using weighted trees, where you always move the smaller tree under the parent of the larger one in a union. This helps reduce tree depth.\n",
    "\n",
    "- Running time takes time proportional to the depths of $p$ and $q$\n",
    "- The `union` method takes constant time\n",
    "- The depth of any node $x$ is at most $log(N)$\n",
    "\n",
    "Proof for max depth of any node containing $x$: The depth increases by 1 when tree $T_1$ containing $x$ is merged into another (larger) tree $T_2$. The size of the tree containing $x$ at least doubles since $|T_2| \\geq |T_1|$. The size of tree containing $x$ can double at most $lg(N)$ times.\n",
    "\n",
    "| Algorithm | Initialize | Union | Find |\n",
    "| - | - | - | - |\n",
    "| quick-find | N | N | 1 |\n",
    "| quick-union | N | N\\* | N |\n",
    "| weighted QU | N | lg(N) | lg(N) |\n",
    "\\* includes cost of finding roots\n",
    "\n",
    "**Conclusion:** Improves the quick-find and quick-union algorithms, but can be improved upon further with path compression. Make every other node in the path point to its grandparent\n",
    "\n",
    "Path compression for any sequence of $M$ union-find operations on $N$ objects makes $\\leq c (N + M \\; lg* \\; N)$ array accesses, where $lg*$ is the iterative log function. In theory, weighted quick-union with path compression (WQUPC) is not quite linear, but in practice it is."
   ]
  },
  {
   "cell_type": "code",
   "execution_count": 22,
   "metadata": {
    "collapsed": true
   },
   "outputs": [],
   "source": [
    "class WeightedQuickUnionUF():\n",
    "    def __init__(self, N):\n",
    "        self.id = [i for i in range(N)]\n",
    "        self.sz = [1] * N\n",
    "    \n",
    "    def root(self, i):\n",
    "        while i != self.id[i]:\n",
    "            # Make every other node in path point to its grandparent\n",
    "            self.id[i] = self.id[self.id[i]]\n",
    "            i = self.id[i]\n",
    "        return i\n",
    "    \n",
    "    def connected(self, p, q):\n",
    "        return self.root(p) == self.root(q)\n",
    "    \n",
    "    def union(self, p, q):\n",
    "        i = self.root(p)\n",
    "        j = self.root(q)\n",
    "        if i == j:\n",
    "            return\n",
    "        if self.sz[i] < self.sz[j]:\n",
    "            self.id[i] = j\n",
    "            self.sz[j] += self.sz[i]\n",
    "        else:\n",
    "            self.id[j] = i\n",
    "            self.sz[i] += self.sz[j]\n",
    "\n",
    "        print(\"ID: {}\".format(self.id))"
   ]
  },
  {
   "cell_type": "code",
   "execution_count": 23,
   "metadata": {},
   "outputs": [
    {
     "name": "stdout",
     "output_type": "stream",
     "text": [
      "ID: [0, 1, 2, 3, 4, 5, 6, 7, 0, 9]\n",
      "ID: [0, 1, 0, 3, 4, 5, 6, 7, 0, 9]\n"
     ]
    }
   ],
   "source": [
    "wtd_quick_union = WeightedQuickUnionUF(10)\n",
    "wtd_quick_union.union(0, 8)\n",
    "wtd_quick_union.union(2, 8)"
   ]
  },
  {
   "cell_type": "code",
   "execution_count": 24,
   "metadata": {},
   "outputs": [
    {
     "data": {
      "text/plain": [
       "True"
      ]
     },
     "execution_count": 24,
     "metadata": {},
     "output_type": "execute_result"
    }
   ],
   "source": [
    "wtd_quick_union.connected(0, 8)"
   ]
  },
  {
   "cell_type": "code",
   "execution_count": 25,
   "metadata": {},
   "outputs": [
    {
     "data": {
      "text/plain": [
       "False"
      ]
     },
     "execution_count": 25,
     "metadata": {},
     "output_type": "execute_result"
    }
   ],
   "source": [
    "wtd_quick_union.connected(3, 4)"
   ]
  },
  {
   "cell_type": "markdown",
   "metadata": {},
   "source": [
    "## Summary of Union-find Algorithms\n",
    "\n",
    "Given $M$ union-find operations on a set of $N$ objects:\n",
    "\n",
    "| Algorithm | Worst-Case Time |\n",
    "| - | - |\n",
    "| quick-find | M N |\n",
    "| quick-union | M N |\n",
    "| weighted QU | N + M log N |\n",
    "| QU + path compression | N + M log N |\n",
    "| weighted QU + path compression | N + M lg\\* N |"
   ]
  },
  {
   "cell_type": "markdown",
   "metadata": {},
   "source": [
    "## Union-find Applications\n",
    "\n",
    "- Percolation\n",
    "- Games (Go, Hex)\n",
    "- Dynamic connectivity\n",
    "- Least common ancestor\n",
    "- Equivalence of finite state automata\n",
    "- Hoshen-Kopelman algorithm in physics\n",
    "- Hinley-Milner polymorphic type inference\n",
    "- Kruskal's minimum spanning tree algorithm\n",
    "- Compiling equivalence statements in Fortran\n",
    "- Morphological attribute openings and closings\n",
    "- Matlab's `bwlabel()` function in image processing"
   ]
  }
 ],
 "metadata": {
  "kernelspec": {
   "display_name": "Python 3",
   "language": "python",
   "name": "python3"
  },
  "language_info": {
   "codemirror_mode": {
    "name": "ipython",
    "version": 3
   },
   "file_extension": ".py",
   "mimetype": "text/x-python",
   "name": "python",
   "nbconvert_exporter": "python",
   "pygments_lexer": "ipython3",
   "version": "3.6.1"
  }
 },
 "nbformat": 4,
 "nbformat_minor": 2
}
