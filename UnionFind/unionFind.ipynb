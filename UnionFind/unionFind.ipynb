{
 "cells": [
  {
   "cell_type": "markdown",
   "metadata": {},
   "source": [
    "# Union Find\n",
    "\n",
    "Solves the problem of dynamic connectivity.\n",
    "\n",
    "Given a set of $N$ objects:\n",
    "- Union command: connects two object\n",
    "- Find/connected query: is there a path connecting two objects?\n",
    "\n",
    "Connectivity properties:\n",
    "- Reflexive: $p$ is connected to $p$\n",
    "- Symmetric: if $p$ is connected to $q$, then $q$ is connected to $p$\n",
    "- Transitive: if $p$ is connected to $q$ and $q$ is connected to $r$, then $p$ is connected to $r$\n",
    "\n",
    "After making a number of connections between objects, you end up with sets of mutually-connected components.\n",
    "\n",
    "The goal of the algorithm is to design an efficient data structure for union-find - may have a huge number of objects $N$ or operations $M$, and the find queries and union commands may be intermixed."
   ]
  },
  {
   "cell_type": "markdown",
   "metadata": {},
   "source": [
    "## Quick-find: the eager approach\n",
    "\n",
    "Quick-find uses an iteger array"
   ]
  }
 ],
 "metadata": {
  "kernelspec": {
   "display_name": "Python 3",
   "language": "python",
   "name": "python3"
  },
  "language_info": {
   "codemirror_mode": {
    "name": "ipython",
    "version": 3
   },
   "file_extension": ".py",
   "mimetype": "text/x-python",
   "name": "python",
   "nbconvert_exporter": "python",
   "pygments_lexer": "ipython3",
   "version": "3.6.1"
  }
 },
 "nbformat": 4,
 "nbformat_minor": 2
}
