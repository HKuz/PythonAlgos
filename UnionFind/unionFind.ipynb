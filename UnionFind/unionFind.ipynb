{
 "cells": [
  {
   "cell_type": "markdown",
   "metadata": {},
   "source": [
    "# Union Find\n",
    "\n",
    "Solves the problem of dynamic connectivity.\n",
    "\n",
    "Given a set of $N$ objects:\n",
    "- Union command: connects two object\n",
    "- Find/connected query: is there a path connecting two objects?\n",
    "\n",
    "Connectivity properties:\n",
    "- Reflexive: $p$ is connected to $p$\n",
    "- Symmetric: if $p$ is connected to $q$, then $q$ is connected to $p$\n",
    "- Transitive: if $p$ is connected to $q$ and $q$ is connected to $r$, then $p$ is connected to $r$\n",
    "\n",
    "After making a number of connections between objects, you end up with sets of mutually-connected components.\n",
    "\n",
    "The goal of the algorithm is to design an efficient data structure for union-find - may have a huge number of objects $N$ or operations $M$, and the find queries and union commands may be intermixed."
   ]
  },
  {
   "cell_type": "markdown",
   "metadata": {},
   "source": [
    "## Quick-find: the eager approach\n",
    "\n",
    "Quick-find uses an integer array `id[]` of length $N$, where the index represents each object, and $p$ and $q$ are connected if and only if they have the same id (same number stored in the array at their respective indices).\n",
    "\n",
    "In general, quick-find is slow (order of growth of number of array accesses - read/write):\n",
    "\n",
    "| Algorithm | Initialize | Union | Find |\n",
    "| - | - | - | - |\n",
    "| quick-find | N | N | 1|\n",
    "\n",
    "Union is expensive - it takes $N^2$ (quadratic) array accesses to process a sequence of $N$ union commands on $N$ objects.\n",
    "\n",
    "Quadratic algorithms aren't acceptable for problems, in general, they don't scale with new technology.\n",
    "\n",
    "**Conclusion:** quick-find is too slow for big problems."
   ]
  },
  {
   "cell_type": "code",
   "execution_count": 3,
   "metadata": {
    "collapsed": true
   },
   "outputs": [],
   "source": [
    "class QuickFindUF():\n",
    "    def __init__(self, N):\n",
    "        self.id = [i for i in range(N)]\n",
    "    \n",
    "    def connected(self, p, q):\n",
    "        return self.id[p] == self.id[q]\n",
    "    \n",
    "    def union(self, p, q):\n",
    "        pid = self.id[p]\n",
    "        qid = self.id[q]\n",
    "        for i in range(len(self.id)):\n",
    "            if self.id[i] == pid:\n",
    "                self.id[i] = qid\n",
    "        print(\"ID: {}\".format(self.id))"
   ]
  },
  {
   "cell_type": "code",
   "execution_count": 8,
   "metadata": {},
   "outputs": [
    {
     "name": "stdout",
     "output_type": "stream",
     "text": [
      "ID: [8, 1, 2, 3, 4, 5, 6, 7, 8, 9]\n"
     ]
    }
   ],
   "source": [
    "quick_find = QuickFindUF(10)\n",
    "quick_find.union(0, 8)"
   ]
  },
  {
   "cell_type": "code",
   "execution_count": 9,
   "metadata": {},
   "outputs": [
    {
     "data": {
      "text/plain": [
       "True"
      ]
     },
     "execution_count": 9,
     "metadata": {},
     "output_type": "execute_result"
    }
   ],
   "source": [
    "quick_find.connected(0, 8)"
   ]
  },
  {
   "cell_type": "code",
   "execution_count": 10,
   "metadata": {},
   "outputs": [
    {
     "data": {
      "text/plain": [
       "False"
      ]
     },
     "execution_count": 10,
     "metadata": {},
     "output_type": "execute_result"
    }
   ],
   "source": [
    "quick_find.connected(3, 4)"
   ]
  },
  {
   "cell_type": "markdown",
   "metadata": {},
   "source": [
    "## Quick-union: the lazy approach\n",
    "\n",
    "Quick-union uses an integer array `id[]` of length $N$, where `id[i]` is the parent of `i`. The root of `i` is `id[id[id[...id[i]...]]]`.\n",
    "\n",
    "The `connected` method checks whether $p$ and $q$ have the same root. The `union` method merges components by setting the `id` of $p$'s root to the `id` of $q$'s root."
   ]
  },
  {
   "cell_type": "code",
   "execution_count": 12,
   "metadata": {
    "collapsed": true
   },
   "outputs": [],
   "source": [
    "class QuickUnionUF():\n",
    "    def __init__(self, N):\n",
    "        self.id = [i for i in range(N)]\n",
    "    \n",
    "    def root(self, i):\n",
    "        while i != self.id[i]:\n",
    "            i = self.id[i]\n",
    "        return i\n",
    "    \n",
    "    def connected(self, p, q):\n",
    "        return self.root(p) == self.root(q)\n",
    "    \n",
    "    def union(self, p, q):\n",
    "        i = self.root(p)\n",
    "        j = self.root(q)\n",
    "        self.id[i] = j\n",
    "        print(\"ID: {}\".format(self.id))"
   ]
  },
  {
   "cell_type": "code",
   "execution_count": 14,
   "metadata": {},
   "outputs": [
    {
     "name": "stdout",
     "output_type": "stream",
     "text": [
      "ID: [8, 1, 2, 3, 4, 5, 6, 7, 8, 9]\n",
      "ID: [8, 1, 8, 3, 4, 5, 6, 7, 8, 9]\n"
     ]
    }
   ],
   "source": [
    "quick_union = QuickUnionUF(10)\n",
    "quick_union.union(0, 8)\n",
    "quick_union.union(2, 8)"
   ]
  },
  {
   "cell_type": "code",
   "execution_count": 15,
   "metadata": {},
   "outputs": [
    {
     "data": {
      "text/plain": [
       "True"
      ]
     },
     "execution_count": 15,
     "metadata": {},
     "output_type": "execute_result"
    }
   ],
   "source": [
    "quick_union.connected(0, 8)"
   ]
  },
  {
   "cell_type": "code",
   "execution_count": 16,
   "metadata": {},
   "outputs": [
    {
     "data": {
      "text/plain": [
       "False"
      ]
     },
     "execution_count": 16,
     "metadata": {},
     "output_type": "execute_result"
    }
   ],
   "source": [
    "quick_union.connected(3, 4)"
   ]
  },
  {
   "cell_type": "code",
   "execution_count": null,
   "metadata": {
    "collapsed": true
   },
   "outputs": [],
   "source": []
  }
 ],
 "metadata": {
  "kernelspec": {
   "display_name": "Python 3",
   "language": "python",
   "name": "python3"
  },
  "language_info": {
   "codemirror_mode": {
    "name": "ipython",
    "version": 3
   },
   "file_extension": ".py",
   "mimetype": "text/x-python",
   "name": "python",
   "nbconvert_exporter": "python",
   "pygments_lexer": "ipython3",
   "version": "3.6.1"
  }
 },
 "nbformat": 4,
 "nbformat_minor": 2
}
